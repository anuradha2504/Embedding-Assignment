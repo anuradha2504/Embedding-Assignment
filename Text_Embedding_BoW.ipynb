{
  "nbformat": 4,
  "nbformat_minor": 0,
  "metadata": {
    "colab": {
      "provenance": [],
      "authorship_tag": "ABX9TyM2VWVYoeUr2EncqFTza7E5",
      "include_colab_link": true
    },
    "kernelspec": {
      "name": "python3",
      "display_name": "Python 3"
    },
    "language_info": {
      "name": "python"
    }
  },
  "cells": [
    {
      "cell_type": "markdown",
      "metadata": {
        "id": "view-in-github",
        "colab_type": "text"
      },
      "source": [
        "<a href=\"https://colab.research.google.com/github/anuradha2504/Embedding-Assignment/blob/main/Text_Embedding_BoW.ipynb\" target=\"_parent\"><img src=\"https://colab.research.google.com/assets/colab-badge.svg\" alt=\"Open In Colab\"/></a>"
      ]
    },
    {
      "cell_type": "markdown",
      "source": [
        "# ***`Setup and Data Preparation:`***\n",
        "- Import necessary libraries: pandas, numpy, nltk, sklearn, gensim, matplotlib, seaborn.\n",
        "- Load the dataset: Choose a dataset for embedding generation.\n",
        "- Preprocess the text data: Perform cleaning, tokenization, stop-word removal, and other\n",
        "preprocessing steps."
      ],
      "metadata": {
        "id": "7V48uavbAYr5"
      }
    },
    {
      "cell_type": "code",
      "execution_count": null,
      "metadata": {
        "id": "R0meD_CcgdmJ"
      },
      "outputs": [],
      "source": [
        "#Step 1: Setup and Data Preparation\n",
        "\n",
        "# Install required libraries (run once)\n",
        "!pip install nltk gensim --quiet\n"
      ]
    },
    {
      "cell_type": "markdown",
      "source": [
        "What This Code Does:\n",
        "\n",
        "*   Prepares dataset by cleaning and tokenizing text.\n",
        "*   Converts text into a Bag of Words (BoW) matrix using CountVectorizer.\n",
        "*   Shows sparsity (how many 0s in matrix).\n",
        "*   Visualizes top 20 most frequent words."
      ],
      "metadata": {
        "id": "GjhalyPmMjRH"
      }
    },
    {
      "cell_type": "code",
      "source": [
        "# Import necessary libraries\n",
        "import pandas as pd\n",
        "import numpy as np\n",
        "import nltk\n",
        "import re\n",
        "import seaborn as sns\n",
        "import matplotlib.pyplot as plt\n",
        "\n",
        "from sklearn.feature_extraction.text import CountVectorizer\n",
        "from nltk.corpus import stopwords\n",
        "from nltk.tokenize import word_tokenize\n"
      ],
      "metadata": {
        "id": "WnnAdbpvh0YZ"
      },
      "execution_count": null,
      "outputs": []
    },
    {
      "cell_type": "code",
      "source": [
        "# Download NLTK data\n",
        "nltk.download('punkt')\n",
        "nltk.download('stopwords')\n",
        "nltk.download('punkt_tab')"
      ],
      "metadata": {
        "id": "7GGsq_soGqyg",
        "colab": {
          "base_uri": "https://localhost:8080/"
        },
        "outputId": "6a207346-1652-4af6-c6e0-9610d97f7389"
      },
      "execution_count": null,
      "outputs": [
        {
          "output_type": "stream",
          "name": "stderr",
          "text": [
            "[nltk_data] Downloading package punkt to /root/nltk_data...\n",
            "[nltk_data]   Package punkt is already up-to-date!\n",
            "[nltk_data] Downloading package stopwords to /root/nltk_data...\n",
            "[nltk_data]   Package stopwords is already up-to-date!\n",
            "[nltk_data] Downloading package punkt_tab to /root/nltk_data...\n",
            "[nltk_data]   Package punkt_tab is already up-to-date!\n"
          ]
        },
        {
          "output_type": "execute_result",
          "data": {
            "text/plain": [
              "True"
            ]
          },
          "metadata": {},
          "execution_count": 3
        }
      ]
    },
    {
      "cell_type": "code",
      "source": [
        "# Load the dataset\n",
        "# Upload the CSV file manually in Colab or use this path if working locally\n",
        "from google.colab import files\n",
        "uploaded = files.upload()  # Upload extended_amazon_reviews.csv"
      ],
      "metadata": {
        "id": "ULJIopDbG_AL",
        "colab": {
          "base_uri": "https://localhost:8080/",
          "height": 38
        },
        "outputId": "e66f540e-d917-4a68-ab4a-4839540e3755"
      },
      "execution_count": null,
      "outputs": [
        {
          "output_type": "display_data",
          "data": {
            "text/plain": [
              "<IPython.core.display.HTML object>"
            ],
            "text/html": [
              "\n",
              "     <input type=\"file\" id=\"files-95b8ec2c-3f91-4b16-baed-a95e8457b6cc\" name=\"files[]\" multiple disabled\n",
              "        style=\"border:none\" />\n",
              "     <output id=\"result-95b8ec2c-3f91-4b16-baed-a95e8457b6cc\">\n",
              "      Upload widget is only available when the cell has been executed in the\n",
              "      current browser session. Please rerun this cell to enable.\n",
              "      </output>\n",
              "      <script>// Copyright 2017 Google LLC\n",
              "//\n",
              "// Licensed under the Apache License, Version 2.0 (the \"License\");\n",
              "// you may not use this file except in compliance with the License.\n",
              "// You may obtain a copy of the License at\n",
              "//\n",
              "//      http://www.apache.org/licenses/LICENSE-2.0\n",
              "//\n",
              "// Unless required by applicable law or agreed to in writing, software\n",
              "// distributed under the License is distributed on an \"AS IS\" BASIS,\n",
              "// WITHOUT WARRANTIES OR CONDITIONS OF ANY KIND, either express or implied.\n",
              "// See the License for the specific language governing permissions and\n",
              "// limitations under the License.\n",
              "\n",
              "/**\n",
              " * @fileoverview Helpers for google.colab Python module.\n",
              " */\n",
              "(function(scope) {\n",
              "function span(text, styleAttributes = {}) {\n",
              "  const element = document.createElement('span');\n",
              "  element.textContent = text;\n",
              "  for (const key of Object.keys(styleAttributes)) {\n",
              "    element.style[key] = styleAttributes[key];\n",
              "  }\n",
              "  return element;\n",
              "}\n",
              "\n",
              "// Max number of bytes which will be uploaded at a time.\n",
              "const MAX_PAYLOAD_SIZE = 100 * 1024;\n",
              "\n",
              "function _uploadFiles(inputId, outputId) {\n",
              "  const steps = uploadFilesStep(inputId, outputId);\n",
              "  const outputElement = document.getElementById(outputId);\n",
              "  // Cache steps on the outputElement to make it available for the next call\n",
              "  // to uploadFilesContinue from Python.\n",
              "  outputElement.steps = steps;\n",
              "\n",
              "  return _uploadFilesContinue(outputId);\n",
              "}\n",
              "\n",
              "// This is roughly an async generator (not supported in the browser yet),\n",
              "// where there are multiple asynchronous steps and the Python side is going\n",
              "// to poll for completion of each step.\n",
              "// This uses a Promise to block the python side on completion of each step,\n",
              "// then passes the result of the previous step as the input to the next step.\n",
              "function _uploadFilesContinue(outputId) {\n",
              "  const outputElement = document.getElementById(outputId);\n",
              "  const steps = outputElement.steps;\n",
              "\n",
              "  const next = steps.next(outputElement.lastPromiseValue);\n",
              "  return Promise.resolve(next.value.promise).then((value) => {\n",
              "    // Cache the last promise value to make it available to the next\n",
              "    // step of the generator.\n",
              "    outputElement.lastPromiseValue = value;\n",
              "    return next.value.response;\n",
              "  });\n",
              "}\n",
              "\n",
              "/**\n",
              " * Generator function which is called between each async step of the upload\n",
              " * process.\n",
              " * @param {string} inputId Element ID of the input file picker element.\n",
              " * @param {string} outputId Element ID of the output display.\n",
              " * @return {!Iterable<!Object>} Iterable of next steps.\n",
              " */\n",
              "function* uploadFilesStep(inputId, outputId) {\n",
              "  const inputElement = document.getElementById(inputId);\n",
              "  inputElement.disabled = false;\n",
              "\n",
              "  const outputElement = document.getElementById(outputId);\n",
              "  outputElement.innerHTML = '';\n",
              "\n",
              "  const pickedPromise = new Promise((resolve) => {\n",
              "    inputElement.addEventListener('change', (e) => {\n",
              "      resolve(e.target.files);\n",
              "    });\n",
              "  });\n",
              "\n",
              "  const cancel = document.createElement('button');\n",
              "  inputElement.parentElement.appendChild(cancel);\n",
              "  cancel.textContent = 'Cancel upload';\n",
              "  const cancelPromise = new Promise((resolve) => {\n",
              "    cancel.onclick = () => {\n",
              "      resolve(null);\n",
              "    };\n",
              "  });\n",
              "\n",
              "  // Wait for the user to pick the files.\n",
              "  const files = yield {\n",
              "    promise: Promise.race([pickedPromise, cancelPromise]),\n",
              "    response: {\n",
              "      action: 'starting',\n",
              "    }\n",
              "  };\n",
              "\n",
              "  cancel.remove();\n",
              "\n",
              "  // Disable the input element since further picks are not allowed.\n",
              "  inputElement.disabled = true;\n",
              "\n",
              "  if (!files) {\n",
              "    return {\n",
              "      response: {\n",
              "        action: 'complete',\n",
              "      }\n",
              "    };\n",
              "  }\n",
              "\n",
              "  for (const file of files) {\n",
              "    const li = document.createElement('li');\n",
              "    li.append(span(file.name, {fontWeight: 'bold'}));\n",
              "    li.append(span(\n",
              "        `(${file.type || 'n/a'}) - ${file.size} bytes, ` +\n",
              "        `last modified: ${\n",
              "            file.lastModifiedDate ? file.lastModifiedDate.toLocaleDateString() :\n",
              "                                    'n/a'} - `));\n",
              "    const percent = span('0% done');\n",
              "    li.appendChild(percent);\n",
              "\n",
              "    outputElement.appendChild(li);\n",
              "\n",
              "    const fileDataPromise = new Promise((resolve) => {\n",
              "      const reader = new FileReader();\n",
              "      reader.onload = (e) => {\n",
              "        resolve(e.target.result);\n",
              "      };\n",
              "      reader.readAsArrayBuffer(file);\n",
              "    });\n",
              "    // Wait for the data to be ready.\n",
              "    let fileData = yield {\n",
              "      promise: fileDataPromise,\n",
              "      response: {\n",
              "        action: 'continue',\n",
              "      }\n",
              "    };\n",
              "\n",
              "    // Use a chunked sending to avoid message size limits. See b/62115660.\n",
              "    let position = 0;\n",
              "    do {\n",
              "      const length = Math.min(fileData.byteLength - position, MAX_PAYLOAD_SIZE);\n",
              "      const chunk = new Uint8Array(fileData, position, length);\n",
              "      position += length;\n",
              "\n",
              "      const base64 = btoa(String.fromCharCode.apply(null, chunk));\n",
              "      yield {\n",
              "        response: {\n",
              "          action: 'append',\n",
              "          file: file.name,\n",
              "          data: base64,\n",
              "        },\n",
              "      };\n",
              "\n",
              "      let percentDone = fileData.byteLength === 0 ?\n",
              "          100 :\n",
              "          Math.round((position / fileData.byteLength) * 100);\n",
              "      percent.textContent = `${percentDone}% done`;\n",
              "\n",
              "    } while (position < fileData.byteLength);\n",
              "  }\n",
              "\n",
              "  // All done.\n",
              "  yield {\n",
              "    response: {\n",
              "      action: 'complete',\n",
              "    }\n",
              "  };\n",
              "}\n",
              "\n",
              "scope.google = scope.google || {};\n",
              "scope.google.colab = scope.google.colab || {};\n",
              "scope.google.colab._files = {\n",
              "  _uploadFiles,\n",
              "  _uploadFilesContinue,\n",
              "};\n",
              "})(self);\n",
              "</script> "
            ]
          },
          "metadata": {}
        }
      ]
    },
    {
      "cell_type": "code",
      "source": [
        "# Load the CSV\n",
        "df = pd.read_csv('sample_amazon_reviews.csv')\n",
        "print(\"Dataset Loaded. Shape:\", df.shape)\n",
        "df.head()\n"
      ],
      "metadata": {
        "id": "4tAmOVDbHNvr",
        "colab": {
          "base_uri": "https://localhost:8080/",
          "height": 223
        },
        "outputId": "ceb07e02-8fa4-4538-e846-2ec48fe100dd"
      },
      "execution_count": null,
      "outputs": [
        {
          "output_type": "stream",
          "name": "stdout",
          "text": [
            "Dataset Loaded. Shape: (6, 2)\n"
          ]
        },
        {
          "output_type": "execute_result",
          "data": {
            "text/plain": [
              "                                          reviewText  overall\n",
              "0  I love this food. It tastes amazing and is rec...        5\n",
              "1  This is the worst purchase I've ever made. Was...        1\n",
              "2  Food flavor is amazing, and the ingredients ar...        5\n",
              "3        Packaging was poor and the box was damaged.        2\n",
              "4          Packaging has to improve.Not recommended.        4"
            ],
            "text/html": [
              "\n",
              "  <div id=\"df-23f1b27f-cc8c-4c9c-bdab-1212c01a4426\" class=\"colab-df-container\">\n",
              "    <div>\n",
              "<style scoped>\n",
              "    .dataframe tbody tr th:only-of-type {\n",
              "        vertical-align: middle;\n",
              "    }\n",
              "\n",
              "    .dataframe tbody tr th {\n",
              "        vertical-align: top;\n",
              "    }\n",
              "\n",
              "    .dataframe thead th {\n",
              "        text-align: right;\n",
              "    }\n",
              "</style>\n",
              "<table border=\"1\" class=\"dataframe\">\n",
              "  <thead>\n",
              "    <tr style=\"text-align: right;\">\n",
              "      <th></th>\n",
              "      <th>reviewText</th>\n",
              "      <th>overall</th>\n",
              "    </tr>\n",
              "  </thead>\n",
              "  <tbody>\n",
              "    <tr>\n",
              "      <th>0</th>\n",
              "      <td>I love this food. It tastes amazing and is rec...</td>\n",
              "      <td>5</td>\n",
              "    </tr>\n",
              "    <tr>\n",
              "      <th>1</th>\n",
              "      <td>This is the worst purchase I've ever made. Was...</td>\n",
              "      <td>1</td>\n",
              "    </tr>\n",
              "    <tr>\n",
              "      <th>2</th>\n",
              "      <td>Food flavor is amazing, and the ingredients ar...</td>\n",
              "      <td>5</td>\n",
              "    </tr>\n",
              "    <tr>\n",
              "      <th>3</th>\n",
              "      <td>Packaging was poor and the box was damaged.</td>\n",
              "      <td>2</td>\n",
              "    </tr>\n",
              "    <tr>\n",
              "      <th>4</th>\n",
              "      <td>Packaging has to improve.Not recommended.</td>\n",
              "      <td>4</td>\n",
              "    </tr>\n",
              "  </tbody>\n",
              "</table>\n",
              "</div>\n",
              "    <div class=\"colab-df-buttons\">\n",
              "\n",
              "  <div class=\"colab-df-container\">\n",
              "    <button class=\"colab-df-convert\" onclick=\"convertToInteractive('df-23f1b27f-cc8c-4c9c-bdab-1212c01a4426')\"\n",
              "            title=\"Convert this dataframe to an interactive table.\"\n",
              "            style=\"display:none;\">\n",
              "\n",
              "  <svg xmlns=\"http://www.w3.org/2000/svg\" height=\"24px\" viewBox=\"0 -960 960 960\">\n",
              "    <path d=\"M120-120v-720h720v720H120Zm60-500h600v-160H180v160Zm220 220h160v-160H400v160Zm0 220h160v-160H400v160ZM180-400h160v-160H180v160Zm440 0h160v-160H620v160ZM180-180h160v-160H180v160Zm440 0h160v-160H620v160Z\"/>\n",
              "  </svg>\n",
              "    </button>\n",
              "\n",
              "  <style>\n",
              "    .colab-df-container {\n",
              "      display:flex;\n",
              "      gap: 12px;\n",
              "    }\n",
              "\n",
              "    .colab-df-convert {\n",
              "      background-color: #E8F0FE;\n",
              "      border: none;\n",
              "      border-radius: 50%;\n",
              "      cursor: pointer;\n",
              "      display: none;\n",
              "      fill: #1967D2;\n",
              "      height: 32px;\n",
              "      padding: 0 0 0 0;\n",
              "      width: 32px;\n",
              "    }\n",
              "\n",
              "    .colab-df-convert:hover {\n",
              "      background-color: #E2EBFA;\n",
              "      box-shadow: 0px 1px 2px rgba(60, 64, 67, 0.3), 0px 1px 3px 1px rgba(60, 64, 67, 0.15);\n",
              "      fill: #174EA6;\n",
              "    }\n",
              "\n",
              "    .colab-df-buttons div {\n",
              "      margin-bottom: 4px;\n",
              "    }\n",
              "\n",
              "    [theme=dark] .colab-df-convert {\n",
              "      background-color: #3B4455;\n",
              "      fill: #D2E3FC;\n",
              "    }\n",
              "\n",
              "    [theme=dark] .colab-df-convert:hover {\n",
              "      background-color: #434B5C;\n",
              "      box-shadow: 0px 1px 3px 1px rgba(0, 0, 0, 0.15);\n",
              "      filter: drop-shadow(0px 1px 2px rgba(0, 0, 0, 0.3));\n",
              "      fill: #FFFFFF;\n",
              "    }\n",
              "  </style>\n",
              "\n",
              "    <script>\n",
              "      const buttonEl =\n",
              "        document.querySelector('#df-23f1b27f-cc8c-4c9c-bdab-1212c01a4426 button.colab-df-convert');\n",
              "      buttonEl.style.display =\n",
              "        google.colab.kernel.accessAllowed ? 'block' : 'none';\n",
              "\n",
              "      async function convertToInteractive(key) {\n",
              "        const element = document.querySelector('#df-23f1b27f-cc8c-4c9c-bdab-1212c01a4426');\n",
              "        const dataTable =\n",
              "          await google.colab.kernel.invokeFunction('convertToInteractive',\n",
              "                                                    [key], {});\n",
              "        if (!dataTable) return;\n",
              "\n",
              "        const docLinkHtml = 'Like what you see? Visit the ' +\n",
              "          '<a target=\"_blank\" href=https://colab.research.google.com/notebooks/data_table.ipynb>data table notebook</a>'\n",
              "          + ' to learn more about interactive tables.';\n",
              "        element.innerHTML = '';\n",
              "        dataTable['output_type'] = 'display_data';\n",
              "        await google.colab.output.renderOutput(dataTable, element);\n",
              "        const docLink = document.createElement('div');\n",
              "        docLink.innerHTML = docLinkHtml;\n",
              "        element.appendChild(docLink);\n",
              "      }\n",
              "    </script>\n",
              "  </div>\n",
              "\n",
              "\n",
              "    <div id=\"df-6611ec10-fc82-4aac-a1e7-a95aa0876dba\">\n",
              "      <button class=\"colab-df-quickchart\" onclick=\"quickchart('df-6611ec10-fc82-4aac-a1e7-a95aa0876dba')\"\n",
              "                title=\"Suggest charts\"\n",
              "                style=\"display:none;\">\n",
              "\n",
              "<svg xmlns=\"http://www.w3.org/2000/svg\" height=\"24px\"viewBox=\"0 0 24 24\"\n",
              "     width=\"24px\">\n",
              "    <g>\n",
              "        <path d=\"M19 3H5c-1.1 0-2 .9-2 2v14c0 1.1.9 2 2 2h14c1.1 0 2-.9 2-2V5c0-1.1-.9-2-2-2zM9 17H7v-7h2v7zm4 0h-2V7h2v10zm4 0h-2v-4h2v4z\"/>\n",
              "    </g>\n",
              "</svg>\n",
              "      </button>\n",
              "\n",
              "<style>\n",
              "  .colab-df-quickchart {\n",
              "      --bg-color: #E8F0FE;\n",
              "      --fill-color: #1967D2;\n",
              "      --hover-bg-color: #E2EBFA;\n",
              "      --hover-fill-color: #174EA6;\n",
              "      --disabled-fill-color: #AAA;\n",
              "      --disabled-bg-color: #DDD;\n",
              "  }\n",
              "\n",
              "  [theme=dark] .colab-df-quickchart {\n",
              "      --bg-color: #3B4455;\n",
              "      --fill-color: #D2E3FC;\n",
              "      --hover-bg-color: #434B5C;\n",
              "      --hover-fill-color: #FFFFFF;\n",
              "      --disabled-bg-color: #3B4455;\n",
              "      --disabled-fill-color: #666;\n",
              "  }\n",
              "\n",
              "  .colab-df-quickchart {\n",
              "    background-color: var(--bg-color);\n",
              "    border: none;\n",
              "    border-radius: 50%;\n",
              "    cursor: pointer;\n",
              "    display: none;\n",
              "    fill: var(--fill-color);\n",
              "    height: 32px;\n",
              "    padding: 0;\n",
              "    width: 32px;\n",
              "  }\n",
              "\n",
              "  .colab-df-quickchart:hover {\n",
              "    background-color: var(--hover-bg-color);\n",
              "    box-shadow: 0 1px 2px rgba(60, 64, 67, 0.3), 0 1px 3px 1px rgba(60, 64, 67, 0.15);\n",
              "    fill: var(--button-hover-fill-color);\n",
              "  }\n",
              "\n",
              "  .colab-df-quickchart-complete:disabled,\n",
              "  .colab-df-quickchart-complete:disabled:hover {\n",
              "    background-color: var(--disabled-bg-color);\n",
              "    fill: var(--disabled-fill-color);\n",
              "    box-shadow: none;\n",
              "  }\n",
              "\n",
              "  .colab-df-spinner {\n",
              "    border: 2px solid var(--fill-color);\n",
              "    border-color: transparent;\n",
              "    border-bottom-color: var(--fill-color);\n",
              "    animation:\n",
              "      spin 1s steps(1) infinite;\n",
              "  }\n",
              "\n",
              "  @keyframes spin {\n",
              "    0% {\n",
              "      border-color: transparent;\n",
              "      border-bottom-color: var(--fill-color);\n",
              "      border-left-color: var(--fill-color);\n",
              "    }\n",
              "    20% {\n",
              "      border-color: transparent;\n",
              "      border-left-color: var(--fill-color);\n",
              "      border-top-color: var(--fill-color);\n",
              "    }\n",
              "    30% {\n",
              "      border-color: transparent;\n",
              "      border-left-color: var(--fill-color);\n",
              "      border-top-color: var(--fill-color);\n",
              "      border-right-color: var(--fill-color);\n",
              "    }\n",
              "    40% {\n",
              "      border-color: transparent;\n",
              "      border-right-color: var(--fill-color);\n",
              "      border-top-color: var(--fill-color);\n",
              "    }\n",
              "    60% {\n",
              "      border-color: transparent;\n",
              "      border-right-color: var(--fill-color);\n",
              "    }\n",
              "    80% {\n",
              "      border-color: transparent;\n",
              "      border-right-color: var(--fill-color);\n",
              "      border-bottom-color: var(--fill-color);\n",
              "    }\n",
              "    90% {\n",
              "      border-color: transparent;\n",
              "      border-bottom-color: var(--fill-color);\n",
              "    }\n",
              "  }\n",
              "</style>\n",
              "\n",
              "      <script>\n",
              "        async function quickchart(key) {\n",
              "          const quickchartButtonEl =\n",
              "            document.querySelector('#' + key + ' button');\n",
              "          quickchartButtonEl.disabled = true;  // To prevent multiple clicks.\n",
              "          quickchartButtonEl.classList.add('colab-df-spinner');\n",
              "          try {\n",
              "            const charts = await google.colab.kernel.invokeFunction(\n",
              "                'suggestCharts', [key], {});\n",
              "          } catch (error) {\n",
              "            console.error('Error during call to suggestCharts:', error);\n",
              "          }\n",
              "          quickchartButtonEl.classList.remove('colab-df-spinner');\n",
              "          quickchartButtonEl.classList.add('colab-df-quickchart-complete');\n",
              "        }\n",
              "        (() => {\n",
              "          let quickchartButtonEl =\n",
              "            document.querySelector('#df-6611ec10-fc82-4aac-a1e7-a95aa0876dba button');\n",
              "          quickchartButtonEl.style.display =\n",
              "            google.colab.kernel.accessAllowed ? 'block' : 'none';\n",
              "        })();\n",
              "      </script>\n",
              "    </div>\n",
              "\n",
              "    </div>\n",
              "  </div>\n"
            ],
            "application/vnd.google.colaboratory.intrinsic+json": {
              "type": "dataframe",
              "variable_name": "df",
              "summary": "{\n  \"name\": \"df\",\n  \"rows\": 6,\n  \"fields\": [\n    {\n      \"column\": \"reviewText\",\n      \"properties\": {\n        \"dtype\": \"string\",\n        \"num_unique_values\": 6,\n        \"samples\": [\n          \"I love this food. It tastes amazing and is recommended for breakfast.\",\n          \"This is the worst purchase I've ever made. Waste of money.\",\n          \"A bit too salty for my taste, but otherwise fine.\"\n        ],\n        \"semantic_type\": \"\",\n        \"description\": \"\"\n      }\n    },\n    {\n      \"column\": \"overall\",\n      \"properties\": {\n        \"dtype\": \"number\",\n        \"std\": 1,\n        \"min\": 1,\n        \"max\": 5,\n        \"num_unique_values\": 5,\n        \"samples\": [\n          1,\n          3,\n          2\n        ],\n        \"semantic_type\": \"\",\n        \"description\": \"\"\n      }\n    }\n  ]\n}"
            }
          },
          "metadata": {},
          "execution_count": 5
        }
      ]
    },
    {
      "cell_type": "code",
      "source": [
        "# Preprocessing function\n",
        "def preprocess_text(text):\n",
        "    text = str(text).lower()  # Lowercase\n",
        "    text = re.sub(r'[^a-zA-Z\\s]', '', text)  # Remove punctuation/numbers\n",
        "    tokens = word_tokenize(text)  # Tokenize\n",
        "    stop_words = set(stopwords.words('english'))\n",
        "    tokens = [word for word in tokens if word not in stop_words]  # Remove stopwords\n",
        "    return ' '.join(tokens)"
      ],
      "metadata": {
        "id": "3Y2A4KArHp8s"
      },
      "execution_count": null,
      "outputs": []
    },
    {
      "cell_type": "code",
      "source": [
        "# Apply preprocessing to the 'reviewText' column\n",
        "df['cleaned_review'] = df['reviewText'].apply(preprocess_text)\n",
        "\n",
        "print(\"\\nSample after preprocessing:\")\n",
        "df[['reviewText', 'cleaned_review']].head()"
      ],
      "metadata": {
        "id": "Mt7tV3vAJJtc",
        "colab": {
          "base_uri": "https://localhost:8080/",
          "height": 241
        },
        "outputId": "45704049-b475-4e03-bef6-72c9e7158bd5"
      },
      "execution_count": null,
      "outputs": [
        {
          "output_type": "stream",
          "name": "stdout",
          "text": [
            "\n",
            "Sample after preprocessing:\n"
          ]
        },
        {
          "output_type": "execute_result",
          "data": {
            "text/plain": [
              "                                          reviewText  \\\n",
              "0  I love this food. It tastes amazing and is rec...   \n",
              "1  This is the worst purchase I've ever made. Was...   \n",
              "2  Food flavor is amazing, and the ingredients ar...   \n",
              "3        Packaging was poor and the box was damaged.   \n",
              "4          Packaging has to improve.Not recommended.   \n",
              "\n",
              "                                      cleaned_review  \n",
              "0     love food tastes amazing recommended breakfast  \n",
              "1           worst purchase ive ever made waste money  \n",
              "2  food flavor amazing ingredients natural highly...  \n",
              "3                         packaging poor box damaged  \n",
              "4                   packaging improvenot recommended  "
            ],
            "text/html": [
              "\n",
              "  <div id=\"df-1e668c1c-aa1e-4751-b6f6-7393c0414a0d\" class=\"colab-df-container\">\n",
              "    <div>\n",
              "<style scoped>\n",
              "    .dataframe tbody tr th:only-of-type {\n",
              "        vertical-align: middle;\n",
              "    }\n",
              "\n",
              "    .dataframe tbody tr th {\n",
              "        vertical-align: top;\n",
              "    }\n",
              "\n",
              "    .dataframe thead th {\n",
              "        text-align: right;\n",
              "    }\n",
              "</style>\n",
              "<table border=\"1\" class=\"dataframe\">\n",
              "  <thead>\n",
              "    <tr style=\"text-align: right;\">\n",
              "      <th></th>\n",
              "      <th>reviewText</th>\n",
              "      <th>cleaned_review</th>\n",
              "    </tr>\n",
              "  </thead>\n",
              "  <tbody>\n",
              "    <tr>\n",
              "      <th>0</th>\n",
              "      <td>I love this food. It tastes amazing and is rec...</td>\n",
              "      <td>love food tastes amazing recommended breakfast</td>\n",
              "    </tr>\n",
              "    <tr>\n",
              "      <th>1</th>\n",
              "      <td>This is the worst purchase I've ever made. Was...</td>\n",
              "      <td>worst purchase ive ever made waste money</td>\n",
              "    </tr>\n",
              "    <tr>\n",
              "      <th>2</th>\n",
              "      <td>Food flavor is amazing, and the ingredients ar...</td>\n",
              "      <td>food flavor amazing ingredients natural highly...</td>\n",
              "    </tr>\n",
              "    <tr>\n",
              "      <th>3</th>\n",
              "      <td>Packaging was poor and the box was damaged.</td>\n",
              "      <td>packaging poor box damaged</td>\n",
              "    </tr>\n",
              "    <tr>\n",
              "      <th>4</th>\n",
              "      <td>Packaging has to improve.Not recommended.</td>\n",
              "      <td>packaging improvenot recommended</td>\n",
              "    </tr>\n",
              "  </tbody>\n",
              "</table>\n",
              "</div>\n",
              "    <div class=\"colab-df-buttons\">\n",
              "\n",
              "  <div class=\"colab-df-container\">\n",
              "    <button class=\"colab-df-convert\" onclick=\"convertToInteractive('df-1e668c1c-aa1e-4751-b6f6-7393c0414a0d')\"\n",
              "            title=\"Convert this dataframe to an interactive table.\"\n",
              "            style=\"display:none;\">\n",
              "\n",
              "  <svg xmlns=\"http://www.w3.org/2000/svg\" height=\"24px\" viewBox=\"0 -960 960 960\">\n",
              "    <path d=\"M120-120v-720h720v720H120Zm60-500h600v-160H180v160Zm220 220h160v-160H400v160Zm0 220h160v-160H400v160ZM180-400h160v-160H180v160Zm440 0h160v-160H620v160ZM180-180h160v-160H180v160Zm440 0h160v-160H620v160Z\"/>\n",
              "  </svg>\n",
              "    </button>\n",
              "\n",
              "  <style>\n",
              "    .colab-df-container {\n",
              "      display:flex;\n",
              "      gap: 12px;\n",
              "    }\n",
              "\n",
              "    .colab-df-convert {\n",
              "      background-color: #E8F0FE;\n",
              "      border: none;\n",
              "      border-radius: 50%;\n",
              "      cursor: pointer;\n",
              "      display: none;\n",
              "      fill: #1967D2;\n",
              "      height: 32px;\n",
              "      padding: 0 0 0 0;\n",
              "      width: 32px;\n",
              "    }\n",
              "\n",
              "    .colab-df-convert:hover {\n",
              "      background-color: #E2EBFA;\n",
              "      box-shadow: 0px 1px 2px rgba(60, 64, 67, 0.3), 0px 1px 3px 1px rgba(60, 64, 67, 0.15);\n",
              "      fill: #174EA6;\n",
              "    }\n",
              "\n",
              "    .colab-df-buttons div {\n",
              "      margin-bottom: 4px;\n",
              "    }\n",
              "\n",
              "    [theme=dark] .colab-df-convert {\n",
              "      background-color: #3B4455;\n",
              "      fill: #D2E3FC;\n",
              "    }\n",
              "\n",
              "    [theme=dark] .colab-df-convert:hover {\n",
              "      background-color: #434B5C;\n",
              "      box-shadow: 0px 1px 3px 1px rgba(0, 0, 0, 0.15);\n",
              "      filter: drop-shadow(0px 1px 2px rgba(0, 0, 0, 0.3));\n",
              "      fill: #FFFFFF;\n",
              "    }\n",
              "  </style>\n",
              "\n",
              "    <script>\n",
              "      const buttonEl =\n",
              "        document.querySelector('#df-1e668c1c-aa1e-4751-b6f6-7393c0414a0d button.colab-df-convert');\n",
              "      buttonEl.style.display =\n",
              "        google.colab.kernel.accessAllowed ? 'block' : 'none';\n",
              "\n",
              "      async function convertToInteractive(key) {\n",
              "        const element = document.querySelector('#df-1e668c1c-aa1e-4751-b6f6-7393c0414a0d');\n",
              "        const dataTable =\n",
              "          await google.colab.kernel.invokeFunction('convertToInteractive',\n",
              "                                                    [key], {});\n",
              "        if (!dataTable) return;\n",
              "\n",
              "        const docLinkHtml = 'Like what you see? Visit the ' +\n",
              "          '<a target=\"_blank\" href=https://colab.research.google.com/notebooks/data_table.ipynb>data table notebook</a>'\n",
              "          + ' to learn more about interactive tables.';\n",
              "        element.innerHTML = '';\n",
              "        dataTable['output_type'] = 'display_data';\n",
              "        await google.colab.output.renderOutput(dataTable, element);\n",
              "        const docLink = document.createElement('div');\n",
              "        docLink.innerHTML = docLinkHtml;\n",
              "        element.appendChild(docLink);\n",
              "      }\n",
              "    </script>\n",
              "  </div>\n",
              "\n",
              "\n",
              "    <div id=\"df-1a2083f8-4620-493c-8c09-22d659ba9e01\">\n",
              "      <button class=\"colab-df-quickchart\" onclick=\"quickchart('df-1a2083f8-4620-493c-8c09-22d659ba9e01')\"\n",
              "                title=\"Suggest charts\"\n",
              "                style=\"display:none;\">\n",
              "\n",
              "<svg xmlns=\"http://www.w3.org/2000/svg\" height=\"24px\"viewBox=\"0 0 24 24\"\n",
              "     width=\"24px\">\n",
              "    <g>\n",
              "        <path d=\"M19 3H5c-1.1 0-2 .9-2 2v14c0 1.1.9 2 2 2h14c1.1 0 2-.9 2-2V5c0-1.1-.9-2-2-2zM9 17H7v-7h2v7zm4 0h-2V7h2v10zm4 0h-2v-4h2v4z\"/>\n",
              "    </g>\n",
              "</svg>\n",
              "      </button>\n",
              "\n",
              "<style>\n",
              "  .colab-df-quickchart {\n",
              "      --bg-color: #E8F0FE;\n",
              "      --fill-color: #1967D2;\n",
              "      --hover-bg-color: #E2EBFA;\n",
              "      --hover-fill-color: #174EA6;\n",
              "      --disabled-fill-color: #AAA;\n",
              "      --disabled-bg-color: #DDD;\n",
              "  }\n",
              "\n",
              "  [theme=dark] .colab-df-quickchart {\n",
              "      --bg-color: #3B4455;\n",
              "      --fill-color: #D2E3FC;\n",
              "      --hover-bg-color: #434B5C;\n",
              "      --hover-fill-color: #FFFFFF;\n",
              "      --disabled-bg-color: #3B4455;\n",
              "      --disabled-fill-color: #666;\n",
              "  }\n",
              "\n",
              "  .colab-df-quickchart {\n",
              "    background-color: var(--bg-color);\n",
              "    border: none;\n",
              "    border-radius: 50%;\n",
              "    cursor: pointer;\n",
              "    display: none;\n",
              "    fill: var(--fill-color);\n",
              "    height: 32px;\n",
              "    padding: 0;\n",
              "    width: 32px;\n",
              "  }\n",
              "\n",
              "  .colab-df-quickchart:hover {\n",
              "    background-color: var(--hover-bg-color);\n",
              "    box-shadow: 0 1px 2px rgba(60, 64, 67, 0.3), 0 1px 3px 1px rgba(60, 64, 67, 0.15);\n",
              "    fill: var(--button-hover-fill-color);\n",
              "  }\n",
              "\n",
              "  .colab-df-quickchart-complete:disabled,\n",
              "  .colab-df-quickchart-complete:disabled:hover {\n",
              "    background-color: var(--disabled-bg-color);\n",
              "    fill: var(--disabled-fill-color);\n",
              "    box-shadow: none;\n",
              "  }\n",
              "\n",
              "  .colab-df-spinner {\n",
              "    border: 2px solid var(--fill-color);\n",
              "    border-color: transparent;\n",
              "    border-bottom-color: var(--fill-color);\n",
              "    animation:\n",
              "      spin 1s steps(1) infinite;\n",
              "  }\n",
              "\n",
              "  @keyframes spin {\n",
              "    0% {\n",
              "      border-color: transparent;\n",
              "      border-bottom-color: var(--fill-color);\n",
              "      border-left-color: var(--fill-color);\n",
              "    }\n",
              "    20% {\n",
              "      border-color: transparent;\n",
              "      border-left-color: var(--fill-color);\n",
              "      border-top-color: var(--fill-color);\n",
              "    }\n",
              "    30% {\n",
              "      border-color: transparent;\n",
              "      border-left-color: var(--fill-color);\n",
              "      border-top-color: var(--fill-color);\n",
              "      border-right-color: var(--fill-color);\n",
              "    }\n",
              "    40% {\n",
              "      border-color: transparent;\n",
              "      border-right-color: var(--fill-color);\n",
              "      border-top-color: var(--fill-color);\n",
              "    }\n",
              "    60% {\n",
              "      border-color: transparent;\n",
              "      border-right-color: var(--fill-color);\n",
              "    }\n",
              "    80% {\n",
              "      border-color: transparent;\n",
              "      border-right-color: var(--fill-color);\n",
              "      border-bottom-color: var(--fill-color);\n",
              "    }\n",
              "    90% {\n",
              "      border-color: transparent;\n",
              "      border-bottom-color: var(--fill-color);\n",
              "    }\n",
              "  }\n",
              "</style>\n",
              "\n",
              "      <script>\n",
              "        async function quickchart(key) {\n",
              "          const quickchartButtonEl =\n",
              "            document.querySelector('#' + key + ' button');\n",
              "          quickchartButtonEl.disabled = true;  // To prevent multiple clicks.\n",
              "          quickchartButtonEl.classList.add('colab-df-spinner');\n",
              "          try {\n",
              "            const charts = await google.colab.kernel.invokeFunction(\n",
              "                'suggestCharts', [key], {});\n",
              "          } catch (error) {\n",
              "            console.error('Error during call to suggestCharts:', error);\n",
              "          }\n",
              "          quickchartButtonEl.classList.remove('colab-df-spinner');\n",
              "          quickchartButtonEl.classList.add('colab-df-quickchart-complete');\n",
              "        }\n",
              "        (() => {\n",
              "          let quickchartButtonEl =\n",
              "            document.querySelector('#df-1a2083f8-4620-493c-8c09-22d659ba9e01 button');\n",
              "          quickchartButtonEl.style.display =\n",
              "            google.colab.kernel.accessAllowed ? 'block' : 'none';\n",
              "        })();\n",
              "      </script>\n",
              "    </div>\n",
              "\n",
              "    </div>\n",
              "  </div>\n"
            ],
            "application/vnd.google.colaboratory.intrinsic+json": {
              "type": "dataframe",
              "summary": "{\n  \"name\": \"df[['reviewText', 'cleaned_review']]\",\n  \"rows\": 5,\n  \"fields\": [\n    {\n      \"column\": \"reviewText\",\n      \"properties\": {\n        \"dtype\": \"string\",\n        \"num_unique_values\": 5,\n        \"samples\": [\n          \"This is the worst purchase I've ever made. Waste of money.\",\n          \"Packaging has to improve.Not recommended.\",\n          \"Food flavor is amazing, and the ingredients are all natural. Highly recommend it.\"\n        ],\n        \"semantic_type\": \"\",\n        \"description\": \"\"\n      }\n    },\n    {\n      \"column\": \"cleaned_review\",\n      \"properties\": {\n        \"dtype\": \"string\",\n        \"num_unique_values\": 5,\n        \"samples\": [\n          \"worst purchase ive ever made waste money\",\n          \"packaging improvenot recommended\",\n          \"food flavor amazing ingredients natural highly recommend\"\n        ],\n        \"semantic_type\": \"\",\n        \"description\": \"\"\n      }\n    }\n  ]\n}"
            }
          },
          "metadata": {},
          "execution_count": 7
        }
      ]
    },
    {
      "cell_type": "markdown",
      "source": [
        "# ***2. Bag of Words (BoW):***\n",
        "- Create a BoW representation: Use `CountVectorizer` from sklearn to convert text into a\n",
        "matrix of word counts.\n",
        "- Analyze the BoW matrix: Examine the sparsity and interpret the word frequencies."
      ],
      "metadata": {
        "id": "Xmug_enOBdSa"
      }
    },
    {
      "cell_type": "code",
      "source": [
        "# Step 2: Bag of Words (BoW)\n",
        "\n",
        "# Initialize CountVectorizer\n",
        "vectorizer = CountVectorizer()"
      ],
      "metadata": {
        "id": "zNkmxPDGJ_xR"
      },
      "execution_count": null,
      "outputs": []
    },
    {
      "cell_type": "code",
      "source": [
        "# Fit and transform the cleaned reviews\n",
        "bow_matrix = vectorizer.fit_transform(df['cleaned_review'])\n"
      ],
      "metadata": {
        "id": "giXdOVIkKGO9"
      },
      "execution_count": null,
      "outputs": []
    },
    {
      "cell_type": "code",
      "source": [
        "# Convert to DataFrame\n",
        "bow_df = pd.DataFrame(bow_matrix.toarray(), columns=vectorizer.get_feature_names_out())\n",
        "print(\"\\nBag of Words matrix shape:\", bow_df.shape)\n",
        "bow_df.head()\n"
      ],
      "metadata": {
        "id": "2Mtzn1xvKKba",
        "colab": {
          "base_uri": "https://localhost:8080/",
          "height": 290
        },
        "outputId": "cc3c78ec-4acc-49cb-9f44-fbbc8b99130c"
      },
      "execution_count": null,
      "outputs": [
        {
          "output_type": "stream",
          "name": "stdout",
          "text": [
            "\n",
            "Bag of Words matrix shape: (6, 28)\n"
          ]
        },
        {
          "output_type": "execute_result",
          "data": {
            "text/plain": [
              "   amazing  bit  box  breakfast  damaged  ever  fine  flavor  food  highly  \\\n",
              "0        1    0    0          1        0     0     0       0     1       0   \n",
              "1        0    0    0          0        0     1     0       0     0       0   \n",
              "2        1    0    0          0        0     0     0       1     1       1   \n",
              "3        0    0    1          0        1     0     0       0     0       0   \n",
              "4        0    0    0          0        0     0     0       0     0       0   \n",
              "\n",
              "   ...  packaging  poor  purchase  recommend  recommended  salty  taste  \\\n",
              "0  ...          0     0         0          0            1      0      0   \n",
              "1  ...          0     0         1          0            0      0      0   \n",
              "2  ...          0     0         0          1            0      0      0   \n",
              "3  ...          1     1         0          0            0      0      0   \n",
              "4  ...          1     0         0          0            1      0      0   \n",
              "\n",
              "   tastes  waste  worst  \n",
              "0       1      0      0  \n",
              "1       0      1      1  \n",
              "2       0      0      0  \n",
              "3       0      0      0  \n",
              "4       0      0      0  \n",
              "\n",
              "[5 rows x 28 columns]"
            ],
            "text/html": [
              "\n",
              "  <div id=\"df-db199822-46de-43df-b411-77a01081f2b5\" class=\"colab-df-container\">\n",
              "    <div>\n",
              "<style scoped>\n",
              "    .dataframe tbody tr th:only-of-type {\n",
              "        vertical-align: middle;\n",
              "    }\n",
              "\n",
              "    .dataframe tbody tr th {\n",
              "        vertical-align: top;\n",
              "    }\n",
              "\n",
              "    .dataframe thead th {\n",
              "        text-align: right;\n",
              "    }\n",
              "</style>\n",
              "<table border=\"1\" class=\"dataframe\">\n",
              "  <thead>\n",
              "    <tr style=\"text-align: right;\">\n",
              "      <th></th>\n",
              "      <th>amazing</th>\n",
              "      <th>bit</th>\n",
              "      <th>box</th>\n",
              "      <th>breakfast</th>\n",
              "      <th>damaged</th>\n",
              "      <th>ever</th>\n",
              "      <th>fine</th>\n",
              "      <th>flavor</th>\n",
              "      <th>food</th>\n",
              "      <th>highly</th>\n",
              "      <th>...</th>\n",
              "      <th>packaging</th>\n",
              "      <th>poor</th>\n",
              "      <th>purchase</th>\n",
              "      <th>recommend</th>\n",
              "      <th>recommended</th>\n",
              "      <th>salty</th>\n",
              "      <th>taste</th>\n",
              "      <th>tastes</th>\n",
              "      <th>waste</th>\n",
              "      <th>worst</th>\n",
              "    </tr>\n",
              "  </thead>\n",
              "  <tbody>\n",
              "    <tr>\n",
              "      <th>0</th>\n",
              "      <td>1</td>\n",
              "      <td>0</td>\n",
              "      <td>0</td>\n",
              "      <td>1</td>\n",
              "      <td>0</td>\n",
              "      <td>0</td>\n",
              "      <td>0</td>\n",
              "      <td>0</td>\n",
              "      <td>1</td>\n",
              "      <td>0</td>\n",
              "      <td>...</td>\n",
              "      <td>0</td>\n",
              "      <td>0</td>\n",
              "      <td>0</td>\n",
              "      <td>0</td>\n",
              "      <td>1</td>\n",
              "      <td>0</td>\n",
              "      <td>0</td>\n",
              "      <td>1</td>\n",
              "      <td>0</td>\n",
              "      <td>0</td>\n",
              "    </tr>\n",
              "    <tr>\n",
              "      <th>1</th>\n",
              "      <td>0</td>\n",
              "      <td>0</td>\n",
              "      <td>0</td>\n",
              "      <td>0</td>\n",
              "      <td>0</td>\n",
              "      <td>1</td>\n",
              "      <td>0</td>\n",
              "      <td>0</td>\n",
              "      <td>0</td>\n",
              "      <td>0</td>\n",
              "      <td>...</td>\n",
              "      <td>0</td>\n",
              "      <td>0</td>\n",
              "      <td>1</td>\n",
              "      <td>0</td>\n",
              "      <td>0</td>\n",
              "      <td>0</td>\n",
              "      <td>0</td>\n",
              "      <td>0</td>\n",
              "      <td>1</td>\n",
              "      <td>1</td>\n",
              "    </tr>\n",
              "    <tr>\n",
              "      <th>2</th>\n",
              "      <td>1</td>\n",
              "      <td>0</td>\n",
              "      <td>0</td>\n",
              "      <td>0</td>\n",
              "      <td>0</td>\n",
              "      <td>0</td>\n",
              "      <td>0</td>\n",
              "      <td>1</td>\n",
              "      <td>1</td>\n",
              "      <td>1</td>\n",
              "      <td>...</td>\n",
              "      <td>0</td>\n",
              "      <td>0</td>\n",
              "      <td>0</td>\n",
              "      <td>1</td>\n",
              "      <td>0</td>\n",
              "      <td>0</td>\n",
              "      <td>0</td>\n",
              "      <td>0</td>\n",
              "      <td>0</td>\n",
              "      <td>0</td>\n",
              "    </tr>\n",
              "    <tr>\n",
              "      <th>3</th>\n",
              "      <td>0</td>\n",
              "      <td>0</td>\n",
              "      <td>1</td>\n",
              "      <td>0</td>\n",
              "      <td>1</td>\n",
              "      <td>0</td>\n",
              "      <td>0</td>\n",
              "      <td>0</td>\n",
              "      <td>0</td>\n",
              "      <td>0</td>\n",
              "      <td>...</td>\n",
              "      <td>1</td>\n",
              "      <td>1</td>\n",
              "      <td>0</td>\n",
              "      <td>0</td>\n",
              "      <td>0</td>\n",
              "      <td>0</td>\n",
              "      <td>0</td>\n",
              "      <td>0</td>\n",
              "      <td>0</td>\n",
              "      <td>0</td>\n",
              "    </tr>\n",
              "    <tr>\n",
              "      <th>4</th>\n",
              "      <td>0</td>\n",
              "      <td>0</td>\n",
              "      <td>0</td>\n",
              "      <td>0</td>\n",
              "      <td>0</td>\n",
              "      <td>0</td>\n",
              "      <td>0</td>\n",
              "      <td>0</td>\n",
              "      <td>0</td>\n",
              "      <td>0</td>\n",
              "      <td>...</td>\n",
              "      <td>1</td>\n",
              "      <td>0</td>\n",
              "      <td>0</td>\n",
              "      <td>0</td>\n",
              "      <td>1</td>\n",
              "      <td>0</td>\n",
              "      <td>0</td>\n",
              "      <td>0</td>\n",
              "      <td>0</td>\n",
              "      <td>0</td>\n",
              "    </tr>\n",
              "  </tbody>\n",
              "</table>\n",
              "<p>5 rows × 28 columns</p>\n",
              "</div>\n",
              "    <div class=\"colab-df-buttons\">\n",
              "\n",
              "  <div class=\"colab-df-container\">\n",
              "    <button class=\"colab-df-convert\" onclick=\"convertToInteractive('df-db199822-46de-43df-b411-77a01081f2b5')\"\n",
              "            title=\"Convert this dataframe to an interactive table.\"\n",
              "            style=\"display:none;\">\n",
              "\n",
              "  <svg xmlns=\"http://www.w3.org/2000/svg\" height=\"24px\" viewBox=\"0 -960 960 960\">\n",
              "    <path d=\"M120-120v-720h720v720H120Zm60-500h600v-160H180v160Zm220 220h160v-160H400v160Zm0 220h160v-160H400v160ZM180-400h160v-160H180v160Zm440 0h160v-160H620v160ZM180-180h160v-160H180v160Zm440 0h160v-160H620v160Z\"/>\n",
              "  </svg>\n",
              "    </button>\n",
              "\n",
              "  <style>\n",
              "    .colab-df-container {\n",
              "      display:flex;\n",
              "      gap: 12px;\n",
              "    }\n",
              "\n",
              "    .colab-df-convert {\n",
              "      background-color: #E8F0FE;\n",
              "      border: none;\n",
              "      border-radius: 50%;\n",
              "      cursor: pointer;\n",
              "      display: none;\n",
              "      fill: #1967D2;\n",
              "      height: 32px;\n",
              "      padding: 0 0 0 0;\n",
              "      width: 32px;\n",
              "    }\n",
              "\n",
              "    .colab-df-convert:hover {\n",
              "      background-color: #E2EBFA;\n",
              "      box-shadow: 0px 1px 2px rgba(60, 64, 67, 0.3), 0px 1px 3px 1px rgba(60, 64, 67, 0.15);\n",
              "      fill: #174EA6;\n",
              "    }\n",
              "\n",
              "    .colab-df-buttons div {\n",
              "      margin-bottom: 4px;\n",
              "    }\n",
              "\n",
              "    [theme=dark] .colab-df-convert {\n",
              "      background-color: #3B4455;\n",
              "      fill: #D2E3FC;\n",
              "    }\n",
              "\n",
              "    [theme=dark] .colab-df-convert:hover {\n",
              "      background-color: #434B5C;\n",
              "      box-shadow: 0px 1px 3px 1px rgba(0, 0, 0, 0.15);\n",
              "      filter: drop-shadow(0px 1px 2px rgba(0, 0, 0, 0.3));\n",
              "      fill: #FFFFFF;\n",
              "    }\n",
              "  </style>\n",
              "\n",
              "    <script>\n",
              "      const buttonEl =\n",
              "        document.querySelector('#df-db199822-46de-43df-b411-77a01081f2b5 button.colab-df-convert');\n",
              "      buttonEl.style.display =\n",
              "        google.colab.kernel.accessAllowed ? 'block' : 'none';\n",
              "\n",
              "      async function convertToInteractive(key) {\n",
              "        const element = document.querySelector('#df-db199822-46de-43df-b411-77a01081f2b5');\n",
              "        const dataTable =\n",
              "          await google.colab.kernel.invokeFunction('convertToInteractive',\n",
              "                                                    [key], {});\n",
              "        if (!dataTable) return;\n",
              "\n",
              "        const docLinkHtml = 'Like what you see? Visit the ' +\n",
              "          '<a target=\"_blank\" href=https://colab.research.google.com/notebooks/data_table.ipynb>data table notebook</a>'\n",
              "          + ' to learn more about interactive tables.';\n",
              "        element.innerHTML = '';\n",
              "        dataTable['output_type'] = 'display_data';\n",
              "        await google.colab.output.renderOutput(dataTable, element);\n",
              "        const docLink = document.createElement('div');\n",
              "        docLink.innerHTML = docLinkHtml;\n",
              "        element.appendChild(docLink);\n",
              "      }\n",
              "    </script>\n",
              "  </div>\n",
              "\n",
              "\n",
              "    <div id=\"df-e49e84e6-086e-4d5b-ba05-49521144fe63\">\n",
              "      <button class=\"colab-df-quickchart\" onclick=\"quickchart('df-e49e84e6-086e-4d5b-ba05-49521144fe63')\"\n",
              "                title=\"Suggest charts\"\n",
              "                style=\"display:none;\">\n",
              "\n",
              "<svg xmlns=\"http://www.w3.org/2000/svg\" height=\"24px\"viewBox=\"0 0 24 24\"\n",
              "     width=\"24px\">\n",
              "    <g>\n",
              "        <path d=\"M19 3H5c-1.1 0-2 .9-2 2v14c0 1.1.9 2 2 2h14c1.1 0 2-.9 2-2V5c0-1.1-.9-2-2-2zM9 17H7v-7h2v7zm4 0h-2V7h2v10zm4 0h-2v-4h2v4z\"/>\n",
              "    </g>\n",
              "</svg>\n",
              "      </button>\n",
              "\n",
              "<style>\n",
              "  .colab-df-quickchart {\n",
              "      --bg-color: #E8F0FE;\n",
              "      --fill-color: #1967D2;\n",
              "      --hover-bg-color: #E2EBFA;\n",
              "      --hover-fill-color: #174EA6;\n",
              "      --disabled-fill-color: #AAA;\n",
              "      --disabled-bg-color: #DDD;\n",
              "  }\n",
              "\n",
              "  [theme=dark] .colab-df-quickchart {\n",
              "      --bg-color: #3B4455;\n",
              "      --fill-color: #D2E3FC;\n",
              "      --hover-bg-color: #434B5C;\n",
              "      --hover-fill-color: #FFFFFF;\n",
              "      --disabled-bg-color: #3B4455;\n",
              "      --disabled-fill-color: #666;\n",
              "  }\n",
              "\n",
              "  .colab-df-quickchart {\n",
              "    background-color: var(--bg-color);\n",
              "    border: none;\n",
              "    border-radius: 50%;\n",
              "    cursor: pointer;\n",
              "    display: none;\n",
              "    fill: var(--fill-color);\n",
              "    height: 32px;\n",
              "    padding: 0;\n",
              "    width: 32px;\n",
              "  }\n",
              "\n",
              "  .colab-df-quickchart:hover {\n",
              "    background-color: var(--hover-bg-color);\n",
              "    box-shadow: 0 1px 2px rgba(60, 64, 67, 0.3), 0 1px 3px 1px rgba(60, 64, 67, 0.15);\n",
              "    fill: var(--button-hover-fill-color);\n",
              "  }\n",
              "\n",
              "  .colab-df-quickchart-complete:disabled,\n",
              "  .colab-df-quickchart-complete:disabled:hover {\n",
              "    background-color: var(--disabled-bg-color);\n",
              "    fill: var(--disabled-fill-color);\n",
              "    box-shadow: none;\n",
              "  }\n",
              "\n",
              "  .colab-df-spinner {\n",
              "    border: 2px solid var(--fill-color);\n",
              "    border-color: transparent;\n",
              "    border-bottom-color: var(--fill-color);\n",
              "    animation:\n",
              "      spin 1s steps(1) infinite;\n",
              "  }\n",
              "\n",
              "  @keyframes spin {\n",
              "    0% {\n",
              "      border-color: transparent;\n",
              "      border-bottom-color: var(--fill-color);\n",
              "      border-left-color: var(--fill-color);\n",
              "    }\n",
              "    20% {\n",
              "      border-color: transparent;\n",
              "      border-left-color: var(--fill-color);\n",
              "      border-top-color: var(--fill-color);\n",
              "    }\n",
              "    30% {\n",
              "      border-color: transparent;\n",
              "      border-left-color: var(--fill-color);\n",
              "      border-top-color: var(--fill-color);\n",
              "      border-right-color: var(--fill-color);\n",
              "    }\n",
              "    40% {\n",
              "      border-color: transparent;\n",
              "      border-right-color: var(--fill-color);\n",
              "      border-top-color: var(--fill-color);\n",
              "    }\n",
              "    60% {\n",
              "      border-color: transparent;\n",
              "      border-right-color: var(--fill-color);\n",
              "    }\n",
              "    80% {\n",
              "      border-color: transparent;\n",
              "      border-right-color: var(--fill-color);\n",
              "      border-bottom-color: var(--fill-color);\n",
              "    }\n",
              "    90% {\n",
              "      border-color: transparent;\n",
              "      border-bottom-color: var(--fill-color);\n",
              "    }\n",
              "  }\n",
              "</style>\n",
              "\n",
              "      <script>\n",
              "        async function quickchart(key) {\n",
              "          const quickchartButtonEl =\n",
              "            document.querySelector('#' + key + ' button');\n",
              "          quickchartButtonEl.disabled = true;  // To prevent multiple clicks.\n",
              "          quickchartButtonEl.classList.add('colab-df-spinner');\n",
              "          try {\n",
              "            const charts = await google.colab.kernel.invokeFunction(\n",
              "                'suggestCharts', [key], {});\n",
              "          } catch (error) {\n",
              "            console.error('Error during call to suggestCharts:', error);\n",
              "          }\n",
              "          quickchartButtonEl.classList.remove('colab-df-spinner');\n",
              "          quickchartButtonEl.classList.add('colab-df-quickchart-complete');\n",
              "        }\n",
              "        (() => {\n",
              "          let quickchartButtonEl =\n",
              "            document.querySelector('#df-e49e84e6-086e-4d5b-ba05-49521144fe63 button');\n",
              "          quickchartButtonEl.style.display =\n",
              "            google.colab.kernel.accessAllowed ? 'block' : 'none';\n",
              "        })();\n",
              "      </script>\n",
              "    </div>\n",
              "\n",
              "    </div>\n",
              "  </div>\n"
            ],
            "application/vnd.google.colaboratory.intrinsic+json": {
              "type": "dataframe",
              "variable_name": "bow_df"
            }
          },
          "metadata": {},
          "execution_count": 10
        }
      ]
    },
    {
      "cell_type": "code",
      "source": [
        "# Analyze sparsity\n",
        "nonzero_elements = bow_matrix.nnz\n",
        "total_elements = bow_matrix.shape[0] * bow_matrix.shape[1]\n",
        "sparsity = (1 - nonzero_elements / total_elements) * 100\n",
        "\n",
        "print(f\"\\nSparsity of BoW matrix: {sparsity:.2f}%\")"
      ],
      "metadata": {
        "id": "jvTUaucLLE9E",
        "colab": {
          "base_uri": "https://localhost:8080/"
        },
        "outputId": "8e023673-84b8-4347-d50b-194d54e684e7"
      },
      "execution_count": null,
      "outputs": [
        {
          "output_type": "stream",
          "name": "stdout",
          "text": [
            "\n",
            "Sparsity of BoW matrix: 80.95%\n"
          ]
        }
      ]
    },
    {
      "cell_type": "code",
      "source": [
        "# Plot top 20 frequent words\n",
        "word_freq = np.asarray(bow_matrix.sum(axis=0)).flatten()\n",
        "word_freq_df = pd.DataFrame({'word': vectorizer.get_feature_names_out(), 'freq': word_freq})\n",
        "top_words = word_freq_df.sort_values(by='freq', ascending=False).head(20)"
      ],
      "metadata": {
        "id": "jCvFdAHGLTVL"
      },
      "execution_count": null,
      "outputs": []
    },
    {
      "cell_type": "code",
      "source": [
        "plt.figure(figsize=(10,6))\n",
        "sns.barplot(x='freq', y='word', data=top_words, palette='mako')\n",
        "plt.title('Top 20 Frequent Words in Reviews (BoW)')\n",
        "plt.xlabel('Frequency')\n",
        "plt.ylabel('Word')\n",
        "plt.tight_layout()\n",
        "plt.show()"
      ],
      "metadata": {
        "id": "Kn54FKG7LZj7",
        "colab": {
          "base_uri": "https://localhost:8080/",
          "height": 714
        },
        "outputId": "1ca67f5a-9213-42fa-a023-ff505ed64452"
      },
      "execution_count": null,
      "outputs": [
        {
          "output_type": "stream",
          "name": "stderr",
          "text": [
            "/tmp/ipython-input-13-673438250.py:2: FutureWarning: \n",
            "\n",
            "Passing `palette` without assigning `hue` is deprecated and will be removed in v0.14.0. Assign the `y` variable to `hue` and set `legend=False` for the same effect.\n",
            "\n",
            "  sns.barplot(x='freq', y='word', data=top_words, palette='mako')\n"
          ]
        },
        {
          "output_type": "display_data",
          "data": {
            "text/plain": [
              "<Figure size 1000x600 with 1 Axes>"
            ],
            "image/png": "[encoded data removed]"
          },
          "metadata": {}
        }
      ]
    },
    {
      "cell_type": "markdown",
      "source": [
        "# ***3. TF-IDF:***\n",
        "- Apply TF-IDF transformation: Use `TfidfVectorizer` to generate TF-IDF features from the text\n",
        "data.\n",
        "- Interpret TF-IDF scores: Analyze how TF-IDF weighs different words in the dataset."
      ],
      "metadata": {
        "id": "DICEfYAtBm_o"
      }
    },
    {
      "cell_type": "markdown",
      "source": [
        "**TF-IDF Implementation Code**"
      ],
      "metadata": {
        "id": "hGHN4JXVQbzp"
      }
    },
    {
      "cell_type": "code",
      "source": [
        "# Step: TF-IDF Embedding\n",
        "\n",
        "from sklearn.feature_extraction.text import TfidfVectorizer\n",
        "\n",
        "# Initialize TfidfVectorizer\n",
        "tfidf_vectorizer = TfidfVectorizer()\n",
        "\n",
        "# Fit and transform the cleaned reviews\n",
        "tfidf_matrix = tfidf_vectorizer.fit_transform(df['cleaned_review'])\n",
        "\n"
      ],
      "metadata": {
        "id": "muLG0dS5QJxS"
      },
      "execution_count": null,
      "outputs": []
    },
    {
      "cell_type": "markdown",
      "source": [
        "**What This Code Does:**\n",
        "\n",
        "\n",
        "*  Generates TF-IDF features from your cleaned reviews using TfidfVectorizer.\n",
        "*  Displays the top weighted terms for a specific review (e.g., review 0).\n",
        "*   Calculates and plots the top 20 words with the highest average TF-IDF scores across all reviews — helping you understand which words are most significant overall."
      ],
      "metadata": {
        "id": "7wpnpTplUwwL"
      }
    },
    {
      "cell_type": "code",
      "source": [
        "# Convert to DataFrame for easier analysis\n",
        "tfidf_df = pd.DataFrame(tfidf_matrix.toarray(), columns=tfidf_vectorizer.get_feature_names_out())\n",
        "\n",
        "print(\"TF-IDF Matrix Shape:\", tfidf_df.shape)\n",
        "tfidf_df.head()"
      ],
      "metadata": {
        "id": "vHP0iPEqRcK4",
        "colab": {
          "base_uri": "https://localhost:8080/",
          "height": 273
        },
        "outputId": "b8a490e4-0291-4aba-984c-70e340153f50"
      },
      "execution_count": null,
      "outputs": [
        {
          "output_type": "stream",
          "name": "stdout",
          "text": [
            "TF-IDF Matrix Shape: (6, 28)\n"
          ]
        },
        {
          "output_type": "execute_result",
          "data": {
            "text/plain": [
              "    amazing  bit       box  breakfast   damaged      ever  fine    flavor  \\\n",
              "0  0.366090  0.0  0.000000   0.446443  0.000000  0.000000   0.0  0.000000   \n",
              "1  0.000000  0.0  0.000000   0.000000  0.000000  0.377964   0.0  0.000000   \n",
              "2  0.325545  0.0  0.000000   0.000000  0.000000  0.000000   0.0  0.396999   \n",
              "3  0.000000  0.0  0.521823   0.000000  0.521823  0.000000   0.0  0.000000   \n",
              "4  0.000000  0.0  0.000000   0.000000  0.000000  0.000000   0.0  0.000000   \n",
              "\n",
              "       food    highly  ...  packaging      poor  purchase  recommend  \\\n",
              "0  0.366090  0.000000  ...   0.000000  0.000000  0.000000   0.000000   \n",
              "1  0.000000  0.000000  ...   0.000000  0.000000  0.377964   0.000000   \n",
              "2  0.325545  0.396999  ...   0.000000  0.000000  0.000000   0.396999   \n",
              "3  0.000000  0.000000  ...   0.427903  0.521823  0.000000   0.000000   \n",
              "4  0.000000  0.000000  ...   0.535506  0.000000  0.000000   0.000000   \n",
              "\n",
              "   recommended  salty  taste    tastes     waste     worst  \n",
              "0     0.366090    0.0    0.0  0.446443  0.000000  0.000000  \n",
              "1     0.000000    0.0    0.0  0.000000  0.377964  0.377964  \n",
              "2     0.000000    0.0    0.0  0.000000  0.000000  0.000000  \n",
              "3     0.000000    0.0    0.0  0.000000  0.000000  0.000000  \n",
              "4     0.535506    0.0    0.0  0.000000  0.000000  0.000000  \n",
              "\n",
              "[5 rows x 28 columns]"
            ],
            "text/html": [
              "\n",
              "  <div id=\"df-c5038fbf-37bb-422b-81b1-ce6a423dc83e\" class=\"colab-df-container\">\n",
              "    <div>\n",
              "<style scoped>\n",
              "    .dataframe tbody tr th:only-of-type {\n",
              "        vertical-align: middle;\n",
              "    }\n",
              "\n",
              "    .dataframe tbody tr th {\n",
              "        vertical-align: top;\n",
              "    }\n",
              "\n",
              "    .dataframe thead th {\n",
              "        text-align: right;\n",
              "    }\n",
              "</style>\n",
              "<table border=\"1\" class=\"dataframe\">\n",
              "  <thead>\n",
              "    <tr style=\"text-align: right;\">\n",
              "      <th></th>\n",
              "      <th>amazing</th>\n",
              "      <th>bit</th>\n",
              "      <th>box</th>\n",
              "      <th>breakfast</th>\n",
              "      <th>damaged</th>\n",
              "      <th>ever</th>\n",
              "      <th>fine</th>\n",
              "      <th>flavor</th>\n",
              "      <th>food</th>\n",
              "      <th>highly</th>\n",
              "      <th>...</th>\n",
              "      <th>packaging</th>\n",
              "      <th>poor</th>\n",
              "      <th>purchase</th>\n",
              "      <th>recommend</th>\n",
              "      <th>recommended</th>\n",
              "      <th>salty</th>\n",
              "      <th>taste</th>\n",
              "      <th>tastes</th>\n",
              "      <th>waste</th>\n",
              "      <th>worst</th>\n",
              "    </tr>\n",
              "  </thead>\n",
              "  <tbody>\n",
              "    <tr>\n",
              "      <th>0</th>\n",
              "      <td>0.366090</td>\n",
              "      <td>0.0</td>\n",
              "      <td>0.000000</td>\n",
              "      <td>0.446443</td>\n",
              "      <td>0.000000</td>\n",
              "      <td>0.000000</td>\n",
              "      <td>0.0</td>\n",
              "      <td>0.000000</td>\n",
              "      <td>0.366090</td>\n",
              "      <td>0.000000</td>\n",
              "      <td>...</td>\n",
              "      <td>0.000000</td>\n",
              "      <td>0.000000</td>\n",
              "      <td>0.000000</td>\n",
              "      <td>0.000000</td>\n",
              "      <td>0.366090</td>\n",
              "      <td>0.0</td>\n",
              "      <td>0.0</td>\n",
              "      <td>0.446443</td>\n",
              "      <td>0.000000</td>\n",
              "      <td>0.000000</td>\n",
              "    </tr>\n",
              "    <tr>\n",
              "      <th>1</th>\n",
              "      <td>0.000000</td>\n",
              "      <td>0.0</td>\n",
              "      <td>0.000000</td>\n",
              "      <td>0.000000</td>\n",
              "      <td>0.000000</td>\n",
              "      <td>0.377964</td>\n",
              "      <td>0.0</td>\n",
              "      <td>0.000000</td>\n",
              "      <td>0.000000</td>\n",
              "      <td>0.000000</td>\n",
              "      <td>...</td>\n",
              "      <td>0.000000</td>\n",
              "      <td>0.000000</td>\n",
              "      <td>0.377964</td>\n",
              "      <td>0.000000</td>\n",
              "      <td>0.000000</td>\n",
              "      <td>0.0</td>\n",
              "      <td>0.0</td>\n",
              "      <td>0.000000</td>\n",
              "      <td>0.377964</td>\n",
              "      <td>0.377964</td>\n",
              "    </tr>\n",
              "    <tr>\n",
              "      <th>2</th>\n",
              "      <td>0.325545</td>\n",
              "      <td>0.0</td>\n",
              "      <td>0.000000</td>\n",
              "      <td>0.000000</td>\n",
              "      <td>0.000000</td>\n",
              "      <td>0.000000</td>\n",
              "      <td>0.0</td>\n",
              "      <td>0.396999</td>\n",
              "      <td>0.325545</td>\n",
              "      <td>0.396999</td>\n",
              "      <td>...</td>\n",
              "      <td>0.000000</td>\n",
              "      <td>0.000000</td>\n",
              "      <td>0.000000</td>\n",
              "      <td>0.396999</td>\n",
              "      <td>0.000000</td>\n",
              "      <td>0.0</td>\n",
              "      <td>0.0</td>\n",
              "      <td>0.000000</td>\n",
              "      <td>0.000000</td>\n",
              "      <td>0.000000</td>\n",
              "    </tr>\n",
              "    <tr>\n",
              "      <th>3</th>\n",
              "      <td>0.000000</td>\n",
              "      <td>0.0</td>\n",
              "      <td>0.521823</td>\n",
              "      <td>0.000000</td>\n",
              "      <td>0.521823</td>\n",
              "      <td>0.000000</td>\n",
              "      <td>0.0</td>\n",
              "      <td>0.000000</td>\n",
              "      <td>0.000000</td>\n",
              "      <td>0.000000</td>\n",
              "      <td>...</td>\n",
              "      <td>0.427903</td>\n",
              "      <td>0.521823</td>\n",
              "      <td>0.000000</td>\n",
              "      <td>0.000000</td>\n",
              "      <td>0.000000</td>\n",
              "      <td>0.0</td>\n",
              "      <td>0.0</td>\n",
              "      <td>0.000000</td>\n",
              "      <td>0.000000</td>\n",
              "      <td>0.000000</td>\n",
              "    </tr>\n",
              "    <tr>\n",
              "      <th>4</th>\n",
              "      <td>0.000000</td>\n",
              "      <td>0.0</td>\n",
              "      <td>0.000000</td>\n",
              "      <td>0.000000</td>\n",
              "      <td>0.000000</td>\n",
              "      <td>0.000000</td>\n",
              "      <td>0.0</td>\n",
              "      <td>0.000000</td>\n",
              "      <td>0.000000</td>\n",
              "      <td>0.000000</td>\n",
              "      <td>...</td>\n",
              "      <td>0.535506</td>\n",
              "      <td>0.000000</td>\n",
              "      <td>0.000000</td>\n",
              "      <td>0.000000</td>\n",
              "      <td>0.535506</td>\n",
              "      <td>0.0</td>\n",
              "      <td>0.0</td>\n",
              "      <td>0.000000</td>\n",
              "      <td>0.000000</td>\n",
              "      <td>0.000000</td>\n",
              "    </tr>\n",
              "  </tbody>\n",
              "</table>\n",
              "<p>5 rows × 28 columns</p>\n",
              "</div>\n",
              "    <div class=\"colab-df-buttons\">\n",
              "\n",
              "  <div class=\"colab-df-container\">\n",
              "    <button class=\"colab-df-convert\" onclick=\"convertToInteractive('df-c5038fbf-37bb-422b-81b1-ce6a423dc83e')\"\n",
              "            title=\"Convert this dataframe to an interactive table.\"\n",
              "            style=\"display:none;\">\n",
              "\n",
              "  <svg xmlns=\"http://www.w3.org/2000/svg\" height=\"24px\" viewBox=\"0 -960 960 960\">\n",
              "    <path d=\"M120-120v-720h720v720H120Zm60-500h600v-160H180v160Zm220 220h160v-160H400v160Zm0 220h160v-160H400v160ZM180-400h160v-160H180v160Zm440 0h160v-160H620v160ZM180-180h160v-160H180v160Zm440 0h160v-160H620v160Z\"/>\n",
              "  </svg>\n",
              "    </button>\n",
              "\n",
              "  <style>\n",
              "    .colab-df-container {\n",
              "      display:flex;\n",
              "      gap: 12px;\n",
              "    }\n",
              "\n",
              "    .colab-df-convert {\n",
              "      background-color: #E8F0FE;\n",
              "      border: none;\n",
              "      border-radius: 50%;\n",
              "      cursor: pointer;\n",
              "      display: none;\n",
              "      fill: #1967D2;\n",
              "      height: 32px;\n",
              "      padding: 0 0 0 0;\n",
              "      width: 32px;\n",
              "    }\n",
              "\n",
              "    .colab-df-convert:hover {\n",
              "      background-color: #E2EBFA;\n",
              "      box-shadow: 0px 1px 2px rgba(60, 64, 67, 0.3), 0px 1px 3px 1px rgba(60, 64, 67, 0.15);\n",
              "      fill: #174EA6;\n",
              "    }\n",
              "\n",
              "    .colab-df-buttons div {\n",
              "      margin-bottom: 4px;\n",
              "    }\n",
              "\n",
              "    [theme=dark] .colab-df-convert {\n",
              "      background-color: #3B4455;\n",
              "      fill: #D2E3FC;\n",
              "    }\n",
              "\n",
              "    [theme=dark] .colab-df-convert:hover {\n",
              "      background-color: #434B5C;\n",
              "      box-shadow: 0px 1px 3px 1px rgba(0, 0, 0, 0.15);\n",
              "      filter: drop-shadow(0px 1px 2px rgba(0, 0, 0, 0.3));\n",
              "      fill: #FFFFFF;\n",
              "    }\n",
              "  </style>\n",
              "\n",
              "    <script>\n",
              "      const buttonEl =\n",
              "        document.querySelector('#df-c5038fbf-37bb-422b-81b1-ce6a423dc83e button.colab-df-convert');\n",
              "      buttonEl.style.display =\n",
              "        google.colab.kernel.accessAllowed ? 'block' : 'none';\n",
              "\n",
              "      async function convertToInteractive(key) {\n",
              "        const element = document.querySelector('#df-c5038fbf-37bb-422b-81b1-ce6a423dc83e');\n",
              "        const dataTable =\n",
              "          await google.colab.kernel.invokeFunction('convertToInteractive',\n",
              "                                                    [key], {});\n",
              "        if (!dataTable) return;\n",
              "\n",
              "        const docLinkHtml = 'Like what you see? Visit the ' +\n",
              "          '<a target=\"_blank\" href=https://colab.research.google.com/notebooks/data_table.ipynb>data table notebook</a>'\n",
              "          + ' to learn more about interactive tables.';\n",
              "        element.innerHTML = '';\n",
              "        dataTable['output_type'] = 'display_data';\n",
              "        await google.colab.output.renderOutput(dataTable, element);\n",
              "        const docLink = document.createElement('div');\n",
              "        docLink.innerHTML = docLinkHtml;\n",
              "        element.appendChild(docLink);\n",
              "      }\n",
              "    </script>\n",
              "  </div>\n",
              "\n",
              "\n",
              "    <div id=\"df-f6fe86c4-5417-44ea-9bed-71179380e3a1\">\n",
              "      <button class=\"colab-df-quickchart\" onclick=\"quickchart('df-f6fe86c4-5417-44ea-9bed-71179380e3a1')\"\n",
              "                title=\"Suggest charts\"\n",
              "                style=\"display:none;\">\n",
              "\n",
              "<svg xmlns=\"http://www.w3.org/2000/svg\" height=\"24px\"viewBox=\"0 0 24 24\"\n",
              "     width=\"24px\">\n",
              "    <g>\n",
              "        <path d=\"M19 3H5c-1.1 0-2 .9-2 2v14c0 1.1.9 2 2 2h14c1.1 0 2-.9 2-2V5c0-1.1-.9-2-2-2zM9 17H7v-7h2v7zm4 0h-2V7h2v10zm4 0h-2v-4h2v4z\"/>\n",
              "    </g>\n",
              "</svg>\n",
              "      </button>\n",
              "\n",
              "<style>\n",
              "  .colab-df-quickchart {\n",
              "      --bg-color: #E8F0FE;\n",
              "      --fill-color: #1967D2;\n",
              "      --hover-bg-color: #E2EBFA;\n",
              "      --hover-fill-color: #174EA6;\n",
              "      --disabled-fill-color: #AAA;\n",
              "      --disabled-bg-color: #DDD;\n",
              "  }\n",
              "\n",
              "  [theme=dark] .colab-df-quickchart {\n",
              "      --bg-color: #3B4455;\n",
              "      --fill-color: #D2E3FC;\n",
              "      --hover-bg-color: #434B5C;\n",
              "      --hover-fill-color: #FFFFFF;\n",
              "      --disabled-bg-color: #3B4455;\n",
              "      --disabled-fill-color: #666;\n",
              "  }\n",
              "\n",
              "  .colab-df-quickchart {\n",
              "    background-color: var(--bg-color);\n",
              "    border: none;\n",
              "    border-radius: 50%;\n",
              "    cursor: pointer;\n",
              "    display: none;\n",
              "    fill: var(--fill-color);\n",
              "    height: 32px;\n",
              "    padding: 0;\n",
              "    width: 32px;\n",
              "  }\n",
              "\n",
              "  .colab-df-quickchart:hover {\n",
              "    background-color: var(--hover-bg-color);\n",
              "    box-shadow: 0 1px 2px rgba(60, 64, 67, 0.3), 0 1px 3px 1px rgba(60, 64, 67, 0.15);\n",
              "    fill: var(--button-hover-fill-color);\n",
              "  }\n",
              "\n",
              "  .colab-df-quickchart-complete:disabled,\n",
              "  .colab-df-quickchart-complete:disabled:hover {\n",
              "    background-color: var(--disabled-bg-color);\n",
              "    fill: var(--disabled-fill-color);\n",
              "    box-shadow: none;\n",
              "  }\n",
              "\n",
              "  .colab-df-spinner {\n",
              "    border: 2px solid var(--fill-color);\n",
              "    border-color: transparent;\n",
              "    border-bottom-color: var(--fill-color);\n",
              "    animation:\n",
              "      spin 1s steps(1) infinite;\n",
              "  }\n",
              "\n",
              "  @keyframes spin {\n",
              "    0% {\n",
              "      border-color: transparent;\n",
              "      border-bottom-color: var(--fill-color);\n",
              "      border-left-color: var(--fill-color);\n",
              "    }\n",
              "    20% {\n",
              "      border-color: transparent;\n",
              "      border-left-color: var(--fill-color);\n",
              "      border-top-color: var(--fill-color);\n",
              "    }\n",
              "    30% {\n",
              "      border-color: transparent;\n",
              "      border-left-color: var(--fill-color);\n",
              "      border-top-color: var(--fill-color);\n",
              "      border-right-color: var(--fill-color);\n",
              "    }\n",
              "    40% {\n",
              "      border-color: transparent;\n",
              "      border-right-color: var(--fill-color);\n",
              "      border-top-color: var(--fill-color);\n",
              "    }\n",
              "    60% {\n",
              "      border-color: transparent;\n",
              "      border-right-color: var(--fill-color);\n",
              "    }\n",
              "    80% {\n",
              "      border-color: transparent;\n",
              "      border-right-color: var(--fill-color);\n",
              "      border-bottom-color: var(--fill-color);\n",
              "    }\n",
              "    90% {\n",
              "      border-color: transparent;\n",
              "      border-bottom-color: var(--fill-color);\n",
              "    }\n",
              "  }\n",
              "</style>\n",
              "\n",
              "      <script>\n",
              "        async function quickchart(key) {\n",
              "          const quickchartButtonEl =\n",
              "            document.querySelector('#' + key + ' button');\n",
              "          quickchartButtonEl.disabled = true;  // To prevent multiple clicks.\n",
              "          quickchartButtonEl.classList.add('colab-df-spinner');\n",
              "          try {\n",
              "            const charts = await google.colab.kernel.invokeFunction(\n",
              "                'suggestCharts', [key], {});\n",
              "          } catch (error) {\n",
              "            console.error('Error during call to suggestCharts:', error);\n",
              "          }\n",
              "          quickchartButtonEl.classList.remove('colab-df-spinner');\n",
              "          quickchartButtonEl.classList.add('colab-df-quickchart-complete');\n",
              "        }\n",
              "        (() => {\n",
              "          let quickchartButtonEl =\n",
              "            document.querySelector('#df-f6fe86c4-5417-44ea-9bed-71179380e3a1 button');\n",
              "          quickchartButtonEl.style.display =\n",
              "            google.colab.kernel.accessAllowed ? 'block' : 'none';\n",
              "        })();\n",
              "      </script>\n",
              "    </div>\n",
              "\n",
              "    </div>\n",
              "  </div>\n"
            ],
            "application/vnd.google.colaboratory.intrinsic+json": {
              "type": "dataframe",
              "variable_name": "tfidf_df"
            }
          },
          "metadata": {},
          "execution_count": 15
        }
      ]
    },
    {
      "cell_type": "code",
      "source": [
        "# View TF-IDF score of a single review\n",
        "sample_idx = 0  # Change this to view other reviews\n",
        "sample_review = tfidf_df.iloc[sample_idx]\n",
        "nonzero_scores = sample_review[sample_review > 0].sort_values(ascending=False)\n",
        "\n",
        "print(f\"\\nTop TF-IDF terms for review {sample_idx} (Original):\")\n",
        "print(df['reviewText'][sample_idx])\n",
        "print(\"\\nTF-IDF weighted terms:\")\n",
        "print(nonzero_scores.head(10))"
      ],
      "metadata": {
        "id": "JuQEFAerRz3X",
        "colab": {
          "base_uri": "https://localhost:8080/"
        },
        "outputId": "521ab30b-8281-4d46-a645-bc49941873c0"
      },
      "execution_count": null,
      "outputs": [
        {
          "output_type": "stream",
          "name": "stdout",
          "text": [
            "\n",
            "Top TF-IDF terms for review 0 (Original):\n",
            "I love this food. It tastes amazing and is recommended for breakfast.\n",
            "\n",
            "TF-IDF weighted terms:\n",
            "breakfast      0.446443\n",
            "love           0.446443\n",
            "tastes         0.446443\n",
            "amazing        0.366090\n",
            "food           0.366090\n",
            "recommended    0.366090\n",
            "Name: 0, dtype: float64\n"
          ]
        }
      ]
    },
    {
      "cell_type": "code",
      "source": [
        "# Average TF-IDF score for each word across all reviews\n",
        "mean_tfidf_scores = tfidf_matrix.mean(axis=0).A1\n",
        "tfidf_vocab = tfidf_vectorizer.get_feature_names_out()\n",
        "avg_tfidf_df = pd.DataFrame({'word': tfidf_vocab, 'avg_score': mean_tfidf_scores})\n",
        "top_avg_words = avg_tfidf_df.sort_values(by='avg_score', ascending=False).head(20)\n"
      ],
      "metadata": {
        "id": "EFwUz495TbWL"
      },
      "execution_count": null,
      "outputs": []
    },
    {
      "cell_type": "code",
      "source": [
        "# Plotting top words by average TF-IDF score\n",
        "import matplotlib.pyplot as plt\n",
        "import seaborn as sns\n",
        "\n",
        "plt.figure(figsize=(10,6))\n",
        "sns.barplot(x='avg_score', y='word', data=top_avg_words, palette='viridis')\n",
        "plt.title('Top 20 Words by Average TF-IDF Score')\n",
        "plt.xlabel('Average TF-IDF Score')\n",
        "plt.ylabel('Word')\n",
        "plt.tight_layout()\n",
        "plt.show()\n"
      ],
      "metadata": {
        "id": "qwhB6E1gT5iB",
        "colab": {
          "base_uri": "https://localhost:8080/",
          "height": 714
        },
        "outputId": "fb9b71a6-5f72-4fe4-b728-44343edb41a1"
      },
      "execution_count": null,
      "outputs": [
        {
          "output_type": "stream",
          "name": "stderr",
          "text": [
            "/tmp/ipython-input-18-202936120.py:6: FutureWarning: \n",
            "\n",
            "Passing `palette` without assigning `hue` is deprecated and will be removed in v0.14.0. Assign the `y` variable to `hue` and set `legend=False` for the same effect.\n",
            "\n",
            "  sns.barplot(x='avg_score', y='word', data=top_avg_words, palette='viridis')\n"
          ]
        },
        {
          "output_type": "display_data",
          "data": {
            "text/plain": [
              "<Figure size 1000x600 with 1 Axes>"
            ],
            "image/png": "[encoded data removed]"
          },
          "metadata": {}
        }
      ]
    },
    {
      "cell_type": "markdown",
      "source": [
        "# 4. Word2Vec:\n",
        "- Train a Word2Vec model: Use Gensim's `Word2Vec` to train a model on the dataset.\n",
        "- Extract word vectors: Obtain vector representations for words and visualize them.[link text](https:// [link text](https:// [link text](https:// [link text](https://))))"
      ],
      "metadata": {
        "id": "wih9TBL6B745"
      }
    },
    {
      "cell_type": "markdown",
      "source": [
        "**Word2Vec with Gensim: Train, Extract, and Visualize Vectors**"
      ],
      "metadata": {
        "id": "rAtpelMCWf4-"
      }
    },
    {
      "cell_type": "markdown",
      "source": [
        "What This Code Does :\n",
        "\n",
        "*   Trains a Word2Vec Skip-gram model using Gensim on your cleaned, tokenized datasett\n",
        "\n",
        "*   Retrieves word vectors and finds similar words.\n",
        "*   Uses PCA to reduce vector dimensions to 2D and visualizes top word embeddings.\n"
      ],
      "metadata": {
        "id": "V5yoUujvYscr"
      }
    },
    {
      "cell_type": "code",
      "source": [
        "!pip install gensim"
      ],
      "metadata": {
        "id": "ztmEoZu4XctF",
        "colab": {
          "base_uri": "https://localhost:8080/"
        },
        "outputId": "8f344616-2ec1-49d5-fb4a-0b137422a485"
      },
      "execution_count": null,
      "outputs": [
        {
          "output_type": "stream",
          "name": "stdout",
          "text": [
            "Requirement already satisfied: gensim in /usr/local/lib/python3.11/dist-packages (4.3.3)\n",
            "Requirement already satisfied: numpy<2.0,>=1.18.5 in /usr/local/lib/python3.11/dist-packages (from gensim) (1.26.4)\n",
            "Requirement already satisfied: scipy<1.14.0,>=1.7.0 in /usr/local/lib/python3.11/dist-packages (from gensim) (1.13.1)\n",
            "Requirement already satisfied: smart-open>=1.8.1 in /usr/local/lib/python3.11/dist-packages (from gensim) (7.3.0.post1)\n",
            "Requirement already satisfied: wrapt in /usr/local/lib/python3.11/dist-packages (from smart-open>=1.8.1->gensim) (1.17.2)\n"
          ]
        }
      ]
    },
    {
      "cell_type": "code",
      "source": [
        "#Step: Word2Vec Embedding\n",
        "\n",
        "import gensim\n",
        "from gensim.models import Word2Vec\n",
        "from nltk.tokenize import word_tokenize\n",
        "from sklearn.decomposition import PCA\n",
        "import matplotlib.pyplot as plt\n",
        "import numpy as np\n",
        "\n"
      ],
      "metadata": {
        "id": "n01yPocGWtvM"
      },
      "execution_count": null,
      "outputs": []
    },
    {
      "cell_type": "code",
      "source": [
        "# Tokenize each cleaned review (already preprocessed)\n",
        "tokenized_reviews = df['cleaned_review'].apply(word_tokenize).tolist()"
      ],
      "metadata": {
        "id": "K0d8Y9YTYH6Q"
      },
      "execution_count": null,
      "outputs": []
    },
    {
      "cell_type": "code",
      "source": [
        "# Train Word2Vec model\n",
        "w2v_model = Word2Vec(\n",
        "    sentences=tokenized_reviews,\n",
        "    vector_size=100,     # Size of the word vectors\n",
        "    window=5,            # Context window size\n",
        "    min_count=1,         # Minimum word count threshold\n",
        "    workers=4,           # Number of worker threads\n",
        "    sg=1,                # Skip-gram (sg=1), use cbow (sg=0) if desired\n",
        "    epochs=50            # Number of iterations (epochs) over the corpus\n",
        ")\n",
        "\n",
        "print(\"Word2Vec model trained on your dataset.\")"
      ],
      "metadata": {
        "id": "OXPfKJ_XYl6J",
        "colab": {
          "base_uri": "https://localhost:8080/"
        },
        "outputId": "ff3d59d9-7c56-4ac2-92fa-7d96768cde08"
      },
      "execution_count": null,
      "outputs": [
        {
          "output_type": "stream",
          "name": "stdout",
          "text": [
            "Word2Vec model trained on your dataset.\n"
          ]
        }
      ]
    },
    {
      "cell_type": "code",
      "source": [
        "# Example: Get vector for a specific word\n",
        "word = 'product'\n",
        "if word in w2v_model.wv:\n",
        "    print(f\"\\nVector for word '{word}':\\n\", w2v_model.wv[word])\n",
        "else:\n",
        "    print(f\"\\nWord '{word}' not found in vocabulary.\")"
      ],
      "metadata": {
        "id": "RZibtnABZYlH",
        "colab": {
          "base_uri": "https://localhost:8080/"
        },
        "outputId": "7a51b3fb-6543-4bc6-8319-c07e832adb70"
      },
      "execution_count": null,
      "outputs": [
        {
          "output_type": "stream",
          "name": "stdout",
          "text": [
            "\n",
            "Word 'product' not found in vocabulary.\n"
          ]
        }
      ]
    },
    {
      "cell_type": "code",
      "source": [
        "#Get most similar words\n",
        "similar_words = w2v_model.wv.most_similar('food', topn=5)\n",
        "print(\"\\nMost similar words to 'Food':\")\n",
        "for w, score in similar_words:\n",
        "    print(f\"{w}: {score:.4f}\")"
      ],
      "metadata": {
        "id": "lP5AK0ilZfCI",
        "colab": {
          "base_uri": "https://localhost:8080/"
        },
        "outputId": "40f87039-23a5-4523-9394-6224ecda08d1"
      },
      "execution_count": null,
      "outputs": [
        {
          "output_type": "stream",
          "name": "stdout",
          "text": [
            "\n",
            "Most similar words to 'Food':\n",
            "ingredients: 0.2231\n",
            "purchase: 0.2162\n",
            "love: 0.1001\n",
            "breakfast: 0.0976\n",
            "made: 0.0942\n"
          ]
        }
      ]
    },
    {
      "cell_type": "code",
      "source": [
        " def plot_word_vectors(model, words_to_plot=30):\n",
        "    words = list(model.wv.key_to_index.keys())[:words_to_plot]\n",
        "    word_vectors = np.array([model.wv[w] for w in words])\n",
        "\n",
        "    # Reduce dimensions to 2D using PCA\n",
        "    pca = PCA(n_components=2)\n",
        "    result = pca.fit_transform(word_vectors)\n",
        "\n",
        "    # Plotting\n",
        "    plt.figure(figsize=(10, 8))\n",
        "    plt.scatter(result[:, 0], result[:, 1])\n",
        "\n",
        "    for i, word in enumerate(words):\n",
        "        plt.annotate(word, xy=(result[i, 0], result[i, 1]))\n",
        "\n",
        "    plt.title(\"Word2Vec Embedding Visualization (PCA)\")\n",
        "    plt.xlabel(\"PCA-1\")\n",
        "    plt.ylabel(\"PCA-2\")\n",
        "    plt.grid(True)\n",
        "    plt.tight_layout()\n",
        "    plt.show()\n",
        "\n",
        "# Plot word vectors\n",
        "plot_word_vectors(w2v_model)\n"
      ],
      "metadata": {
        "id": "-W0WJW3JaGEz",
        "colab": {
          "base_uri": "https://localhost:8080/",
          "height": 807
        },
        "outputId": "98bd3555-9374-4521-ec55-c73a9c23229f"
      },
      "execution_count": null,
      "outputs": [
        {
          "output_type": "display_data",
          "data": {
            "text/plain": [
              "<Figure size 1000x800 with 1 Axes>"
            ],
            "image/png": "[encoded data removed]"
          },
          "metadata": {}
        }
      ]
    },
    {
      "cell_type": "markdown",
      "source": [
        "# **5. GloVe:**\n",
        "- Use pre-trained GloVe embeddings: Load GloVe vectors and map words in the dataset to\n",
        "their corresponding embeddings.\n",
        "- Train a GloVe model (optional): Use the GloVe package to train embeddings if desired."
      ],
      "metadata": {
        "id": "eDIhijvGCLan"
      }
    },
    {
      "cell_type": "markdown",
      "source": [
        "What This code Does:\n",
        "Downloads GloVe 100-dimensional pre-trained word vectors.\n",
        "\n",
        "Loads them into a dictionary.\n",
        "\n",
        "For each cleaned review:\n",
        "\n",
        "Tokenizes the review text (again, since NLTK’s word_tokenize() is safer).\n",
        "\n",
        "Averages the GloVe vectors of words found in the embeddings.\n",
        "\n",
        "Creates a final glove_matrix with shape (num_reviews, 100)."
      ],
      "metadata": {
        "id": "b-IXBJ2ktHIT"
      }
    },
    {
      "cell_type": "code",
      "source": [
        "import numpy as np\n",
        "from nltk.tokenize import word_tokenize\n",
        "\n",
        "# Step 1: Download and unzip GloVe vectors (100d)\n",
        "!wget http://nlp.stanford.edu/data/glove.6B.zip\n",
        "!unzip -q glove.6B.zip\n",
        "\n",
        "# Step 2: Load pre-trained GloVe vectors into a dictionary\n",
        "glove_embeddings = {}\n",
        "glove_dim = 100\n",
        "glove_file = \"glove.6B.100d.txt\""
      ],
      "metadata": {
        "id": "xNkMaciFtJmV",
        "colab": {
          "base_uri": "https://localhost:8080/"
        },
        "outputId": "a01e87ff-bb1f-4287-fbc0-3d2c4f556b67"
      },
      "execution_count": null,
      "outputs": [
        {
          "output_type": "stream",
          "name": "stdout",
          "text": [
            "--2025-07-25 18:03:21--  http://nlp.stanford.edu/data/glove.6B.zip\n",
            "Resolving nlp.stanford.edu (nlp.stanford.edu)... 171.64.67.140\n",
            "Connecting to nlp.stanford.edu (nlp.stanford.edu)|171.64.67.140|:80... connected.\n",
            "HTTP request sent, awaiting response... 302 Found\n",
            "Location: https://nlp.stanford.edu/data/glove.6B.zip [following]\n",
            "--2025-07-25 18:03:21--  https://nlp.stanford.edu/data/glove.6B.zip\n",
            "Connecting to nlp.stanford.edu (nlp.stanford.edu)|171.64.67.140|:443... connected.\n",
            "HTTP request sent, awaiting response... 301 Moved Permanently\n",
            "Location: https://downloads.cs.stanford.edu/nlp/data/glove.6B.zip [following]\n",
            "--2025-07-25 18:03:21--  https://downloads.cs.stanford.edu/nlp/data/glove.6B.zip\n",
            "Resolving downloads.cs.stanford.edu (downloads.cs.stanford.edu)... 171.64.64.22\n",
            "Connecting to downloads.cs.stanford.edu (downloads.cs.stanford.edu)|171.64.64.22|:443... connected.\n",
            "HTTP request sent, awaiting response... 200 OK\n",
            "Length: 862182613 (822M) [application/zip]\n",
            "Saving to: ‘glove.6B.zip’\n",
            "\n",
            "glove.6B.zip        100%[===================>] 822.24M  5.03MB/s    in 2m 40s  \n",
            "\n",
            "2025-07-25 18:06:00 (5.15 MB/s) - ‘glove.6B.zip’ saved [862182613/862182613]\n",
            "\n"
          ]
        }
      ]
    },
    {
      "cell_type": "code",
      "source": [
        "with open(glove_file, 'r', encoding='utf8') as f:\n",
        "    for line in f:\n",
        "        parts = line.strip().split()\n",
        "        word = parts[0]\n",
        "        vector = np.array(parts[1:], dtype=np.float32)\n",
        "        glove_embeddings[word] = vector\n",
        "\n",
        "print(f\"Loaded {len(glove_embeddings)} GloVe vectors.\")"
      ],
      "metadata": {
        "colab": {
          "base_uri": "https://localhost:8080/"
        },
        "id": "7DX0M9G5xMCZ",
        "outputId": "325f7821-16ff-452c-c4cf-da9e44f690ba"
      },
      "execution_count": null,
      "outputs": [
        {
          "output_type": "stream",
          "name": "stdout",
          "text": [
            "Loaded 400000 GloVe vectors.\n"
          ]
        }
      ]
    },
    {
      "cell_type": "code",
      "source": [
        "# Step 3: Convert each review into a single GloVe-based vector\n",
        "def get_glove_review_vector(text, embeddings, dim=100):\n",
        "    words = word_tokenize(text)\n",
        "    valid_vectors = [embeddings[word] for word in words if word in embeddings]\n",
        "    if valid_vectors:\n",
        "        return np.mean(valid_vectors, axis=0)\n",
        "    else:\n",
        "        return np.zeros(dim)"
      ],
      "metadata": {
        "id": "WQQPJXMgxW2u"
      },
      "execution_count": null,
      "outputs": []
    },
    {
      "cell_type": "code",
      "source": [
        "# Apply to all cleaned reviews\n",
        "df['glove_vector'] = df['cleaned_review'].apply(lambda x: get_glove_review_vector(x, glove_embeddings, glove_dim))"
      ],
      "metadata": {
        "id": "xQuOE1MGxZg-"
      },
      "execution_count": null,
      "outputs": []
    },
    {
      "cell_type": "code",
      "source": [
        "# Convert to matrix for ML or visualization\n",
        "glove_matrix = np.vstack(df['glove_vector'].values)\n",
        "print(\"GloVe review embedding matrix shape:\", glove_matrix.shape)"
      ],
      "metadata": {
        "colab": {
          "base_uri": "https://localhost:8080/"
        },
        "id": "FsDl0vL0xhik",
        "outputId": "fdd84ed5-9ffc-425b-8ce2-d19860c04989"
      },
      "execution_count": null,
      "outputs": [
        {
          "output_type": "stream",
          "name": "stdout",
          "text": [
            "GloVe review embedding matrix shape: (6, 100)\n"
          ]
        }
      ]
    },
    {
      "cell_type": "code",
      "source": [
        "print(df[['cleaned_review', 'glove_vector']])\n"
      ],
      "metadata": {
        "colab": {
          "base_uri": "https://localhost:8080/"
        },
        "id": "i1-rCd6UyIU5",
        "outputId": "f067cc48-d3b0-4d96-8ed1-df0e4744a3b5"
      },
      "execution_count": null,
      "outputs": [
        {
          "output_type": "stream",
          "name": "stdout",
          "text": [
            "                                      cleaned_review  \\\n",
            "0     love food tastes amazing recommended breakfast   \n",
            "1           worst purchase ive ever made waste money   \n",
            "2  food flavor amazing ingredients natural highly...   \n",
            "3                         packaging poor box damaged   \n",
            "4                   packaging improvenot recommended   \n",
            "5                     bit salty taste otherwise fine   \n",
            "\n",
            "                                        glove_vector  \n",
            "0  [-0.14049333, 0.35633335, 0.244048, -0.0909731...  \n",
            "1  [0.12849858, 0.36014858, 0.39636955, -0.278428...  \n",
            "2  [-0.34808713, 0.5616706, 0.23762086, 0.0015715...  \n",
            "3  [-0.1334475, 0.28871, 0.2614905, -0.20813325, ...  \n",
            "4  [-0.33298, -0.09442001, -0.266559, 0.059430018...  \n",
            "5  [-0.220198, 0.2954864, 0.33740404, -0.22456999...  \n"
          ]
        }
      ]
    },
    {
      "cell_type": "markdown",
      "source": [
        "**Visualization**"
      ],
      "metadata": {
        "id": "I8S3JI0szqyC"
      }
    },
    {
      "cell_type": "code",
      "source": [
        "import matplotlib.pyplot as plt\n",
        "from sklearn.decomposition import PCA\n",
        "\n",
        "\n",
        "# Get word vectors from the DataFrame (we'll use the first 100 samples for simplicity)\n",
        "word_vectors = df['glove_vector'].tolist()\n",
        "\n",
        "\n",
        "# Reduce the dimensionality of word vectors to 2D using PCA\n",
        "pca = PCA(n_components=2)\n",
        "pca_result = pca.fit_transform(word_vectors)\n",
        "\n",
        "# Plot the word embeddings in 2D space\n",
        "plt.figure(figsize=(25, 8))\n",
        "plt.scatter(pca_result[:, 0], pca_result[:, 1])\n",
        "\n",
        "\n",
        "# Annotate each point with its corresponding cleaned text\n",
        "for i, text in enumerate(df['cleaned_review']):\n",
        "    plt.annotate(text, (pca_result[i, 0], pca_result[i, 1]))\n",
        "\n",
        "\n",
        "plt.title('Visualization of Word Embeddings (2D)')\n",
        "plt.show()\n",
        "\n"
      ],
      "metadata": {
        "colab": {
          "base_uri": "https://localhost:8080/",
          "height": 391
        },
        "id": "vqLasKwqzzL7",
        "outputId": "7d5e8586-9114-4048-f771-b9a88fd7932b"
      },
      "execution_count": null,
      "outputs": [
        {
          "output_type": "display_data",
          "data": {
            "text/plain": [
              "<Figure size 2500x800 with 1 Axes>"
            ],
            "image/png": "[encoded data removed]"
          },
          "metadata": {}
        }
      ]
    },
    {
      "cell_type": "markdown",
      "source": [
        "**Strengths and Limitations**\n",
        "\n",
        "**Strengths:**\n",
        "\n",
        "Captures global statistical information, which makes the embeddings more robust.\n",
        "\n",
        "\n",
        "Better at handling word relationships, including rare words, compared to BoW and TF-IDF.\n",
        "\n",
        "\n",
        "**Limitations:**\n",
        "\n",
        "Requires a large corpus to train effectively.\n",
        "\n",
        "\n",
        "Computationally expensive, especially when training on large datasets.\n",
        "\n",
        "\n",
        "Unlike Word2Vec, the embeddings are fixed once trained and cannot capture dynamic or evolving meanings.\n"
      ],
      "metadata": {
        "id": "hiBb3ZBM1LhS"
      }
    },
    {
      "cell_type": "markdown",
      "source": [
        "**Conclusion :**\n",
        "\n",
        "GloVe is a powerful technique for word embedding that leverages global co-occurrence information. It is effective in capturing semantic word relationships, making it suitable for tasks like semantic similarity, analogy, and information retrieval. However, it requires substantial computation resources and training data."
      ],
      "metadata": {
        "id": "_NBa1c_-1pA6"
      }
    },
    {
      "cell_type": "markdown",
      "source": [
        "## 6.***FastText:***\n",
        "- Train a FastText model: Use Gensim’s `FastText` to train embeddings that consider subword\n",
        "information.\n",
        "- Analyze FastText embeddings: Compare them with Word2Vec and GloVe embeddings."
      ],
      "metadata": {
        "id": "MjvAwub9CYUs"
      }
    },
    {
      "cell_type": "markdown",
      "source": [
        "**Train FastText Embeddings Using Gensim**"
      ],
      "metadata": {
        "id": "p-1X8V7V9zrz"
      }
    },
    {
      "cell_type": "code",
      "source": [
        "# Step 1: Install Gensim (if not already installed)\n",
        "!pip install gensim --quiet"
      ],
      "metadata": {
        "id": "b_PATba81lrB"
      },
      "execution_count": null,
      "outputs": []
    },
    {
      "cell_type": "code",
      "source": [
        "from gensim.models import FastText\n",
        "from nltk.tokenize import word_tokenize\n",
        "\n",
        "# Step 2a: Tokenize the cleaned reviews\n",
        "tokenized_reviews = df['cleaned_review'].apply(word_tokenize).tolist()\n",
        "\n",
        "# Step 2b: Train FastText model\n",
        "fasttext_model = FastText(\n",
        "    sentences=tokenized_reviews,\n",
        "    vector_size=100,     # Dimensionality of word vectors\n",
        "    window=5,            # Context window size\n",
        "    min_count=1,         # Minimum word frequency\n",
        "    workers=4,           # Use appropriate number of threads\n",
        "    sg=1,                # Use skip-gram (sg=1); for CBOW use sg=0\n",
        "    epochs=20            # Training epochs\n",
        ")\n",
        "\n",
        "print(\"✅ FastText model training complete!\")"
      ],
      "metadata": {
        "colab": {
          "base_uri": "https://localhost:8080/"
        },
        "id": "OipHZF1S-AkR",
        "outputId": "a3ce65e4-e7d2-40bc-ab18-8b8457de6643"
      },
      "execution_count": null,
      "outputs": [
        {
          "output_type": "stream",
          "name": "stdout",
          "text": [
            "✅ FastText model training complete!\n"
          ]
        }
      ]
    },
    {
      "cell_type": "markdown",
      "source": [
        "Step 3: Explore Trained FastText Embeddings\n",
        "Get Vector for a Word"
      ],
      "metadata": {
        "id": "M82xPUGM-M1l"
      }
    },
    {
      "cell_type": "code",
      "source": [
        "word = \"food\"\n",
        "if word in fasttext_model.wv:\n",
        "    print(f\"Vector for '{word}':\\n\", fasttext_model.wv[word])\n",
        "else:\n",
        "    print(f\"'{word}' not found in FastText vocabulary.\")"
      ],
      "metadata": {
        "colab": {
          "base_uri": "https://localhost:8080/"
        },
        "id": "cmhwE_Cg-Ots",
        "outputId": "b7dc9499-a8c0-4380-d38d-fc7b63d19d35"
      },
      "execution_count": null,
      "outputs": [
        {
          "output_type": "stream",
          "name": "stdout",
          "text": [
            "Vector for 'food':\n",
            " [-2.1077693e-03 -6.7430636e-04 -1.7365911e-04  7.7288056e-04\n",
            "  1.1971747e-03 -2.7728798e-03  1.2617115e-03  1.7528373e-03\n",
            " -1.9624173e-03 -1.1287081e-03  7.1817636e-04 -9.5421349e-04\n",
            " -1.6865879e-03  1.3880105e-03 -6.2392111e-04 -4.1904344e-04\n",
            " -4.9047675e-03  9.4967836e-04 -3.9318325e-06  1.1223526e-03\n",
            "  1.5484218e-03  6.4729626e-04  1.3701062e-04  2.7699529e-03\n",
            "  5.9957418e-04 -1.1687238e-03 -1.8489418e-03  7.8524021e-04\n",
            " -9.0115721e-04  5.0408527e-04 -1.3489230e-03 -7.8201981e-04\n",
            "  2.3873688e-03 -1.1380286e-03 -8.2470739e-04  5.2984781e-04\n",
            " -8.1275275e-04 -3.5705960e-03  1.4243491e-03  1.8342290e-04\n",
            " -4.2195010e-04 -3.2311562e-04  2.6250735e-03  1.9932529e-03\n",
            " -1.5335415e-03  4.4090254e-03 -1.4042147e-03 -1.0969770e-03\n",
            " -5.7124393e-04 -5.5026874e-04 -9.0365746e-04 -4.2796123e-04\n",
            " -1.4665909e-03  3.2879654e-04  2.6846977e-03 -1.6595396e-03\n",
            "  9.7266253e-04  2.4183134e-03  9.6631073e-04  8.2484656e-04\n",
            " -1.9102278e-03  1.0236953e-03 -2.7018222e-03  9.4248657e-04\n",
            "  2.1680230e-03 -6.6934171e-04 -3.9368179e-03  3.1797846e-03\n",
            " -2.6203881e-03  1.5333969e-03 -3.2464435e-05  2.0237572e-03\n",
            " -1.5025270e-03  1.4459897e-03 -8.7816210e-04  1.3337354e-03\n",
            " -1.1312439e-03  5.9768241e-05 -3.7162679e-03 -2.4848727e-03\n",
            " -1.0354298e-03  1.9461216e-03 -1.5384383e-03  1.1301014e-03\n",
            " -1.6941017e-04 -1.5761863e-03  6.6846429e-04 -3.7571677e-04\n",
            " -2.3099261e-03  1.8231069e-03 -1.0647032e-03 -1.6995434e-03\n",
            " -4.8918906e-04  2.8023473e-03  6.8638197e-05  3.5927715e-03\n",
            "  1.8242329e-03 -2.0505661e-04  1.3960522e-03 -6.8852102e-04]\n"
          ]
        }
      ]
    },
    {
      "cell_type": "code",
      "source": [
        "print(\"\\nWords similar to 'cheap':\")\n",
        "similar_words = fasttext_model.wv.most_similar(\"cheap\", topn=5)\n",
        "for word, score in similar_words:\n",
        "    print(f\"{word}: {score:.4f}\")"
      ],
      "metadata": {
        "colab": {
          "base_uri": "https://localhost:8080/"
        },
        "id": "1mSmqXnT_W80",
        "outputId": "12f0e1ba-10e6-4beb-8fbc-a61f6fb6e9fb"
      },
      "execution_count": null,
      "outputs": [
        {
          "output_type": "stream",
          "name": "stdout",
          "text": [
            "\n",
            "Words similar to 'cheap':\n",
            "damaged: 0.1919\n",
            "salty: 0.1679\n",
            "bit: 0.1405\n",
            "tastes: 0.1260\n",
            "fine: 0.0985\n"
          ]
        }
      ]
    },
    {
      "cell_type": "markdown",
      "source": [
        " Visualize Word Embeddings (PCA)"
      ],
      "metadata": {
        "id": "_e7Q6QhCCw7e"
      }
    },
    {
      "cell_type": "code",
      "source": [
        "from sklearn.decomposition import PCA\n",
        "import matplotlib.pyplot as plt\n",
        "import numpy as np\n",
        "\n",
        "def visualize_fasttext_words(model, word_list):\n",
        "    vectors = [model.wv[word] for word in word_list if word in model.wv]\n",
        "    words = [word for word in word_list if word in model.wv]\n",
        "\n",
        "    # Reduce dimensions\n",
        "    pca = PCA(n_components=2)\n",
        "    reduced = pca.fit_transform(vectors)\n",
        "\n",
        "    # Plot\n",
        "    plt.figure(figsize=(10, 6))\n",
        "    plt.scatter(reduced[:, 0], reduced[:, 1])\n",
        "    for i, word in enumerate(words):\n",
        "        plt.annotate(word, (reduced[i, 0], reduced[i, 1]))\n",
        "\n",
        "    plt.title(\"FastText Word Embeddings (PCA)\")\n",
        "    plt.xlabel(\"PCA-1\")\n",
        "    plt.ylabel(\"PCA-2\")\n",
        "    plt.grid(True)\n",
        "    plt.show()\n",
        "\n",
        "# Words to visualize\n",
        "visualize_fasttext_words(fasttext_model, [\"love\", \"cheap\", \"bad\", \"excellent\", \"dog\", \"training\", \"natural\"])"
      ],
      "metadata": {
        "colab": {
          "base_uri": "https://localhost:8080/",
          "height": 564
        },
        "id": "OhCMR6KiC7Bn",
        "outputId": "9ac6686c-faf5-47a8-9f2f-237fed5deafd"
      },
      "execution_count": null,
      "outputs": [
        {
          "output_type": "display_data",
          "data": {
            "text/plain": [
              "<Figure size 1000x600 with 1 Axes>"
            ],
            "image/png": "[encoded data removed]"
          },
          "metadata": {}
        }
      ]
    },
    {
      "cell_type": "markdown",
      "source": [
        "# Summary of What This Code Does\n",
        "    Step\t      Description\n",
        "✅ Tokenize\t-  Uses nltk to tokenize the cleaned_review column\n",
        "\n",
        "✅ Train\t   -  Trains a FastText skip-gram model using Gensim\n",
        "\n",
        "✅ Explore\t  - Allows vector lookup and most similar word search\n",
        "\n",
        "✅ Visualize\t - Plots word vectors using PCA for interpretation"
      ],
      "metadata": {
        "id": "0ortYXuSDHIk"
      }
    },
    {
      "cell_type": "markdown",
      "source": [],
      "metadata": {
        "id": "ZIoRhLWvDihQ"
      }
    },
    {
      "cell_type": "markdown",
      "source": [
        "# **Step-by-Step Comparison: FastText vs Word2Vec vs GloVe**\n",
        "We will compare them using:\n",
        "\n",
        "Similarity Analysis (How each model finds similar words)\n",
        "\n",
        "Out-of-Vocabulary (OOV) Handling (FastText advantage)\n",
        "\n",
        "Embedding Quality Visualization (PCA plots)\n",
        "\n",
        "### Qualitative Summary Table"
      ],
      "metadata": {
        "id": "r2P4XNZrD1By"
      }
    },
    {
      "cell_type": "markdown",
      "source": [
        "# #1. Similarity Comparison for a Few Words"
      ],
      "metadata": {
        "id": "2pv8wnugERyP"
      }
    },
    {
      "cell_type": "code",
      "source": [
        "def print_similar_words(model, word, model_name):\n",
        "    print(f\"\\n🔎 {model_name} - Words similar to '{word}':\")\n",
        "    if word in model.wv:\n",
        "        similar = model.wv.most_similar(word, topn=5)\n",
        "        for w, score in similar:\n",
        "            print(f\"{w}: {score:.4f}\")\n",
        "    else:\n",
        "        print(f\"'{word}' not in vocabulary.\")\n",
        "\n",
        "# Compare for word: 'cheap'\n",
        "print_similar_words(w2v_model, 'cheap', 'Word2Vec')\n",
        "print_similar_words(fasttext_model, 'cheap', 'FastText')\n",
        "\n",
        "# For GloVe (static embeddings)\n",
        "def glove_similar_words(glove_dict, base_word, topn=5):\n",
        "    if base_word not in glove_dict:\n",
        "        print(f\"'{base_word}' not in GloVe embeddings.\")\n",
        "        return\n",
        "\n",
        "    base_vec = glove_dict[base_word]\n",
        "    similarities = {}\n",
        "    for word in glove_dict:\n",
        "        if word != base_word:\n",
        "            similarities[word] = np.dot(base_vec, glove_dict[word]) / (np.linalg.norm(base_vec) * np.linalg.norm(glove_dict[word]))\n",
        "\n",
        "    sorted_words = sorted(similarities.items(), key=lambda item: item[1], reverse=True)\n",
        "    print(f\"\\n🔎 GloVe - Words similar to '{base_word}':\")\n",
        "    for word, score in sorted_words[:topn]:\n",
        "        print(f\"{word}: {score:.4f}\")\n",
        "\n",
        "glove_similar_words(glove_embeddings, \"cheap\")"
      ],
      "metadata": {
        "colab": {
          "base_uri": "https://localhost:8080/"
        },
        "id": "NeOy5Q8CEKWy",
        "outputId": "41937da3-1f87-462b-bf07-b7ea740a53e3"
      },
      "execution_count": null,
      "outputs": [
        {
          "output_type": "stream",
          "name": "stdout",
          "text": [
            "\n",
            "🔎 Word2Vec - Words similar to 'cheap':\n",
            "'cheap' not in vocabulary.\n",
            "\n",
            "🔎 FastText - Words similar to 'cheap':\n",
            "damaged: 0.1919\n",
            "salty: 0.1679\n",
            "bit: 0.1405\n",
            "tastes: 0.1260\n",
            "fine: 0.0985\n",
            "\n",
            "🔎 GloVe - Words similar to 'cheap':\n",
            "inexpensive: 0.8237\n",
            "cheaper: 0.8101\n",
            "expensive: 0.7749\n",
            "affordable: 0.7004\n",
            "easy: 0.6465\n"
          ]
        }
      ]
    },
    {
      "cell_type": "markdown",
      "source": [
        "# 2. Test OOV (Out-of-Vocabulary) Handling"
      ],
      "metadata": {
        "id": "tLnemwguHi5t"
      }
    },
    {
      "cell_type": "code",
      "source": [
        "# Try a misspelled or rare word (not seen in training)\n",
        "oov_word = \"cheeeap\"\n",
        "\n",
        "# Word2Vec\n",
        "print(\"\\nWord2Vec OOV:\", oov_word in w2v_model.wv)\n",
        "\n",
        "# FastText (can generate embedding due to subword units)\n",
        "print(\"FastText OOV handled:\", oov_word in fasttext_model.wv or hasattr(fasttext_model.wv, '__getitem__'))\n",
        "\n",
        "# GloVe\n",
        "print(\"GloVe OOV:\", oov_word in glove_embeddings)"
      ],
      "metadata": {
        "colab": {
          "base_uri": "https://localhost:8080/"
        },
        "id": "Cndbm7fIHk6n",
        "outputId": "34675e55-1a1a-4cf6-9e5d-df2a44608a5a"
      },
      "execution_count": null,
      "outputs": [
        {
          "output_type": "stream",
          "name": "stdout",
          "text": [
            "\n",
            "Word2Vec OOV: False\n",
            "FastText OOV handled: True\n",
            "GloVe OOV: False\n"
          ]
        }
      ]
    },
    {
      "cell_type": "markdown",
      "source": [
        "# 3. Visual Comparison with PCA"
      ],
      "metadata": {
        "id": "tP99wz99I2wc"
      }
    },
    {
      "cell_type": "code",
      "source": [
        "from sklearn.decomposition import PCA\n",
        "import matplotlib.pyplot as plt\n",
        "\n",
        "def plot_embeddings(model, words, model_name, is_glove=False):\n",
        "    vecs = []\n",
        "    labels = []\n",
        "\n",
        "    for word in words:\n",
        "        if is_glove and word in glove_embeddings:\n",
        "            vecs.append(glove_embeddings[word])\n",
        "            labels.append(word)\n",
        "        elif not is_glove and word in model.wv:\n",
        "            vecs.append(model.wv[word])\n",
        "            labels.append(word)\n",
        "\n",
        "    pca = PCA(n_components=2)\n",
        "    result = pca.fit_transform(vecs)\n",
        "\n",
        "    plt.figure(figsize=(8,6))\n",
        "    plt.scatter(result[:, 0], result[:, 1])\n",
        "    for i, label in enumerate(labels):\n",
        "        plt.annotate(label, (result[i, 0], result[i, 1]))\n",
        "    plt.title(f\"{model_name} Word Embeddings (PCA)\")\n",
        "    plt.grid(True)\n",
        "    plt.show()\n",
        "\n",
        "# Define test words\n",
        "test_words = [\"cheap\", \"bad\", \"love\", \"amazing\", \"natural\", \"product\", \"training\"]\n",
        "\n",
        "# Plot for each model\n",
        "plot_embeddings(w2v_model, test_words, \"Word2Vec\")\n",
        "plot_embeddings(fasttext_model, test_words, \"FastText\")\n",
        "plot_embeddings(None, test_words, \"GloVe\", is_glove=True)"
      ],
      "metadata": {
        "colab": {
          "base_uri": "https://localhost:8080/",
          "height": 1000
        },
        "id": "yITpvfICI-dd",
        "outputId": "a28afc74-cf9a-4d32-9904-a845ee5e1b9f"
      },
      "execution_count": null,
      "outputs": [
        {
          "output_type": "display_data",
          "data": {
            "text/plain": [
              "<Figure size 800x600 with 1 Axes>"
            ],
            "image/png": "[encoded data removed]"
          },
          "metadata": {}
        },
        {
          "output_type": "display_data",
          "data": {
            "text/plain": [
              "<Figure size 800x600 with 1 Axes>"
            ],
            "image/png": "[encoded data removed]"
          },
          "metadata": {}
        },
        {
          "output_type": "display_data",
          "data": {
            "text/plain": [
              "<Figure size 800x600 with 1 Axes>"
            ],
            "image/png": "[encoded data removed]"
          },
          "metadata": {}
        }
      ]
    },
    {
      "cell_type": "markdown",
      "source": [],
      "metadata": {
        "id": "cC2Zz0N1Khqk"
      }
    },
    {
      "cell_type": "markdown",
      "source": [
        "| Feature / Model                  | Word2Vec             | GloVe                | FastText             |\n",
        "| -------------------------------- | -------------------- | -------------------- | -------------------- |\n",
        "| **Training Type**                | Predictive (SG/CBOW) | Count-based          | Predictive + Subword |\n",
        "| **OOV Handling**                 | ❌ No                 | ❌ No                 | ✅ Yes (subwords)     |\n",
        "| **Context Capture**              | Window-based         | Global co-occurrence | Window + Subword     |\n",
        "| **Embeddings**                   | Word-level           | Word-level           | Word + Subword       |\n",
        "| **Good for Misspellings/Slangs** | ❌ No                 | ❌ No                 | ✅ Yes                |\n",
        "| **Interpretability**             | ✅ High               | ✅ High               | ✅ High               |\n",
        "| **Training Time**                | ⚡ Fast               | ⏳ Medium             | ⏳ Slightly longer    |\n"
      ],
      "metadata": {
        "id": "5aB4Yl8WJyjX"
      }
    },
    {
      "cell_type": "markdown",
      "source": [
        "✅ Summary\n",
        "FastText outperforms in handling rare or unseen words due to subword modeling.\n",
        "\n",
        "Word2Vec is efficient and captures context well but struggles with OOV words.\n",
        "\n",
        "GloVe captures global statistics and gives solid general-purpose embeddings."
      ],
      "metadata": {
        "id": "xqcR7ZDNKklY"
      }
    }
  ]
}